{
 "cells": [
  {
   "cell_type": "markdown",
   "metadata": {
    "deletable": true,
    "editable": true
   },
   "source": [
    "# Udacity MLND Capstone Project: Quora Question Pairs - Kaggle Prediction Competition"
   ]
  },
  {
   "cell_type": "markdown",
   "metadata": {
    "deletable": true,
    "editable": true
   },
   "source": [
    "Running the Quora Question Pairs Prediction Competition. Details can be found at: https://www.kaggle.com/c/quora-question-pairs"
   ]
  },
  {
   "cell_type": "markdown",
   "metadata": {
    "deletable": true,
    "editable": true
   },
   "source": [
    "## Importing Data\n",
    "In this first section, we will import the data, check for any null values and replace them with generic text 'empty'. Lastly, we will print the shape of our training and test datasets."
   ]
  },
  {
   "cell_type": "code",
   "execution_count": 1,
   "metadata": {
    "collapsed": false,
    "deletable": true,
    "editable": true
   },
   "outputs": [
    {
     "name": "stdout",
     "output_type": "stream",
     "text": [
      "There are 2 null values in the training dataset, and 6 null values in the test dataset.\n",
      "Null values have been replaced with generic text: 'empty'\n",
      "(404290, 6)\n",
      "(2345796, 3)\n"
     ]
    }
   ],
   "source": [
    "# import packages\n",
    "import numpy as np\n",
    "import pandas as pd\n",
    "import matplotlib.pyplot as plt\n",
    "import seaborn as sns\n",
    "import time\n",
    "from __future__ import print_function, division\n",
    "%matplotlib inline\n",
    "\n",
    "pal = sns.color_palette()\n",
    "\n",
    "# Input data files are available in the \"input/\" directory.\n",
    "train_df = pd.read_csv(\"input/train.csv\")\n",
    "test_df = pd.read_csv(\"input/test.csv\")\n",
    "\n",
    "#Checking to see if there are any null values in the dataset\n",
    "print('There are %d null values in the training dataset, and %d null values in the test dataset.' % (train_df.isnull().sum().sum(), test_df.isnull().sum().sum()))\n",
    "\n",
    "#if desired, review the null values in the dataset\n",
    "#print(train_df[pd.isnull(train_df).any(axis=1)])\n",
    "#print(test_df[pd.isnull(test_df).any(axis=1)])\n",
    "\n",
    "#set null values to generic text 'empty'\n",
    "train_df.ix[train_df['question1'].isnull(),['question1']] = 'empty'\n",
    "train_df.ix[train_df['question2'].isnull(),['question2']] = 'empty'\n",
    "test_df.ix[test_df['question1'].isnull(),['question1']] = 'empty'\n",
    "test_df.ix[test_df['question2'].isnull(),['question2']] = 'empty'\n",
    "print(\"Null values have been replaced with generic text: 'empty'\")\n",
    "\n",
    "#confirm null values set correctly\n",
    "#print(train_df.loc[train_df['question1'] == 'empty'])\n",
    "#print(train_df.loc[train_df['question2'] == 'empty'])\n",
    "#print(test_df.loc[test_df['question1'] == 'empty'])\n",
    "#print(test_df.loc[test_df['question2'] == 'empty'])\n",
    "\n",
    "print(train_df.shape)\n",
    "print(test_df.shape)"
   ]
  },
  {
   "cell_type": "markdown",
   "metadata": {
    "deletable": true,
    "editable": true
   },
   "source": [
    "## Data Exploration\n",
    "Next, we will view samples of the first 5 records from each of our dataframes, **train_df** and **test_df**."
   ]
  },
  {
   "cell_type": "code",
   "execution_count": 2,
   "metadata": {
    "collapsed": false,
    "deletable": true,
    "editable": true
   },
   "outputs": [
    {
     "data": {
      "text/html": [
       "<div>\n",
       "<table border=\"1\" class=\"dataframe\">\n",
       "  <thead>\n",
       "    <tr style=\"text-align: right;\">\n",
       "      <th></th>\n",
       "      <th>id</th>\n",
       "      <th>qid1</th>\n",
       "      <th>qid2</th>\n",
       "      <th>question1</th>\n",
       "      <th>question2</th>\n",
       "      <th>is_duplicate</th>\n",
       "    </tr>\n",
       "  </thead>\n",
       "  <tbody>\n",
       "    <tr>\n",
       "      <th>0</th>\n",
       "      <td>0</td>\n",
       "      <td>1</td>\n",
       "      <td>2</td>\n",
       "      <td>What is the step by step guide to invest in sh...</td>\n",
       "      <td>What is the step by step guide to invest in sh...</td>\n",
       "      <td>0</td>\n",
       "    </tr>\n",
       "    <tr>\n",
       "      <th>1</th>\n",
       "      <td>1</td>\n",
       "      <td>3</td>\n",
       "      <td>4</td>\n",
       "      <td>What is the story of Kohinoor (Koh-i-Noor) Dia...</td>\n",
       "      <td>What would happen if the Indian government sto...</td>\n",
       "      <td>0</td>\n",
       "    </tr>\n",
       "    <tr>\n",
       "      <th>2</th>\n",
       "      <td>2</td>\n",
       "      <td>5</td>\n",
       "      <td>6</td>\n",
       "      <td>How can I increase the speed of my internet co...</td>\n",
       "      <td>How can Internet speed be increased by hacking...</td>\n",
       "      <td>0</td>\n",
       "    </tr>\n",
       "    <tr>\n",
       "      <th>3</th>\n",
       "      <td>3</td>\n",
       "      <td>7</td>\n",
       "      <td>8</td>\n",
       "      <td>Why am I mentally very lonely? How can I solve...</td>\n",
       "      <td>Find the remainder when [math]23^{24}[/math] i...</td>\n",
       "      <td>0</td>\n",
       "    </tr>\n",
       "    <tr>\n",
       "      <th>4</th>\n",
       "      <td>4</td>\n",
       "      <td>9</td>\n",
       "      <td>10</td>\n",
       "      <td>Which one dissolve in water quikly sugar, salt...</td>\n",
       "      <td>Which fish would survive in salt water?</td>\n",
       "      <td>0</td>\n",
       "    </tr>\n",
       "  </tbody>\n",
       "</table>\n",
       "</div>"
      ],
      "text/plain": [
       "   id  qid1  qid2                                          question1  \\\n",
       "0   0     1     2  What is the step by step guide to invest in sh...   \n",
       "1   1     3     4  What is the story of Kohinoor (Koh-i-Noor) Dia...   \n",
       "2   2     5     6  How can I increase the speed of my internet co...   \n",
       "3   3     7     8  Why am I mentally very lonely? How can I solve...   \n",
       "4   4     9    10  Which one dissolve in water quikly sugar, salt...   \n",
       "\n",
       "                                           question2  is_duplicate  \n",
       "0  What is the step by step guide to invest in sh...             0  \n",
       "1  What would happen if the Indian government sto...             0  \n",
       "2  How can Internet speed be increased by hacking...             0  \n",
       "3  Find the remainder when [math]23^{24}[/math] i...             0  \n",
       "4            Which fish would survive in salt water?             0  "
      ]
     },
     "execution_count": 2,
     "metadata": {},
     "output_type": "execute_result"
    }
   ],
   "source": [
    "train_df.head()"
   ]
  },
  {
   "cell_type": "code",
   "execution_count": 3,
   "metadata": {
    "collapsed": false,
    "deletable": true,
    "editable": true
   },
   "outputs": [
    {
     "data": {
      "text/html": [
       "<div>\n",
       "<table border=\"1\" class=\"dataframe\">\n",
       "  <thead>\n",
       "    <tr style=\"text-align: right;\">\n",
       "      <th></th>\n",
       "      <th>test_id</th>\n",
       "      <th>question1</th>\n",
       "      <th>question2</th>\n",
       "    </tr>\n",
       "  </thead>\n",
       "  <tbody>\n",
       "    <tr>\n",
       "      <th>0</th>\n",
       "      <td>0</td>\n",
       "      <td>How does the Surface Pro himself 4 compare wit...</td>\n",
       "      <td>Why did Microsoft choose core m3 and not core ...</td>\n",
       "    </tr>\n",
       "    <tr>\n",
       "      <th>1</th>\n",
       "      <td>1</td>\n",
       "      <td>Should I have a hair transplant at age 24? How...</td>\n",
       "      <td>How much cost does hair transplant require?</td>\n",
       "    </tr>\n",
       "    <tr>\n",
       "      <th>2</th>\n",
       "      <td>2</td>\n",
       "      <td>What but is the best way to send money from Ch...</td>\n",
       "      <td>What you send money to China?</td>\n",
       "    </tr>\n",
       "    <tr>\n",
       "      <th>3</th>\n",
       "      <td>3</td>\n",
       "      <td>Which food not emulsifiers?</td>\n",
       "      <td>What foods fibre?</td>\n",
       "    </tr>\n",
       "    <tr>\n",
       "      <th>4</th>\n",
       "      <td>4</td>\n",
       "      <td>How \"aberystwyth\" start reading?</td>\n",
       "      <td>How their can I start reading?</td>\n",
       "    </tr>\n",
       "  </tbody>\n",
       "</table>\n",
       "</div>"
      ],
      "text/plain": [
       "   test_id                                          question1  \\\n",
       "0        0  How does the Surface Pro himself 4 compare wit...   \n",
       "1        1  Should I have a hair transplant at age 24? How...   \n",
       "2        2  What but is the best way to send money from Ch...   \n",
       "3        3                        Which food not emulsifiers?   \n",
       "4        4                   How \"aberystwyth\" start reading?   \n",
       "\n",
       "                                           question2  \n",
       "0  Why did Microsoft choose core m3 and not core ...  \n",
       "1        How much cost does hair transplant require?  \n",
       "2                      What you send money to China?  \n",
       "3                                  What foods fibre?  \n",
       "4                     How their can I start reading?  "
      ]
     },
     "execution_count": 3,
     "metadata": {},
     "output_type": "execute_result"
    }
   ],
   "source": [
    "test_df.head()"
   ]
  },
  {
   "cell_type": "code",
   "execution_count": 4,
   "metadata": {
    "collapsed": false,
    "deletable": true,
    "editable": true
   },
   "outputs": [
    {
     "name": "stdout",
     "output_type": "stream",
     "text": [
      "Number of Duplicate Records in Training Dataset: \n",
      "0    255027\n",
      "1    149263\n",
      "Name: is_duplicate, dtype: int64\n",
      "\n",
      "Percentage of Duplicate Records in Training Dataset: \n",
      "0    0.630802\n",
      "1    0.369198\n",
      "Name: is_duplicate, dtype: float64\n"
     ]
    }
   ],
   "source": [
    "# Review the number of duplicate question pairs in the training dataset\n",
    "is_dup = train_df['is_duplicate'].value_counts()\n",
    "\n",
    "print(\"Number of Duplicate Records in Training Dataset: \")\n",
    "print(is_dup)\n",
    "\n",
    "print(\"\\nPercentage of Duplicate Records in Training Dataset: \")\n",
    "print(is_dup / is_dup.sum())"
   ]
  },
  {
   "cell_type": "markdown",
   "metadata": {
    "deletable": true,
    "editable": true
   },
   "source": [
    "From above, we can see that there are 149,263 (63.08%) duplicate question pairs in the training dataset, and 255,027 question pairs (36.92%) which are not duplicate."
   ]
  },
  {
   "cell_type": "markdown",
   "metadata": {
    "deletable": true,
    "editable": true
   },
   "source": [
    "### Identifying Duplicate Individual Questions\n",
    "The next step we will do in our data exploration is review how many duplicate individual questions there are across our training dataset. "
   ]
  },
  {
   "cell_type": "code",
   "execution_count": 5,
   "metadata": {
    "collapsed": false,
    "deletable": true,
    "editable": true
   },
   "outputs": [
    {
     "name": "stdout",
     "output_type": "stream",
     "text": [
      "Total number of question pairs in the training set: 404290\n",
      "Duplicate pairs: 36.92%\n",
      "Total number of unique questions (across both qid1 and qid2) in the training data: 537933\n",
      "Number of Questions that Appear Multiple Times: 111780\n",
      "\n"
     ]
    },
    {
     "data": {
      "image/png": "[encoded data removed]",
      "text/plain": [
       "<matplotlib.figure.Figure at 0x10cf56510>"
      ]
     },
     "metadata": {},
     "output_type": "display_data"
    }
   ],
   "source": [
    "print(\"Total number of question pairs in the training set: {}\".format(len(train_df)))\n",
    "print('Duplicate pairs: {}%'.format(round(train_df['is_duplicate'].mean()*100, 2)))\n",
    "qids = pd.Series(train_df['qid1'].tolist() + train_df['qid2'].tolist())\n",
    "print('Total number of unique questions (across both qid1 and qid2) in the training data: {}'.format(len(\n",
    "    np.unique(qids))))\n",
    "print('Number of Questions that Appear Multiple Times: {}'.format(np.sum(qids.value_counts() > 1)))\n",
    "\n",
    "#Print the Log-Histogram of Question Appearance Counts in our Training Data. \n",
    "plt.figure(figsize=(12, 5))\n",
    "plt.hist(qids.value_counts(), bins=50)\n",
    "plt.yscale('log', nonposy='clip')\n",
    "plt.title('Log-Histogram of Question Appearance Counts')\n",
    "plt.xlabel('Number of Occurences of Question')\n",
    "plt.ylabel('Number of Questions')\n",
    "print()"
   ]
  },
  {
   "cell_type": "markdown",
   "metadata": {
    "deletable": true,
    "editable": true
   },
   "source": [
    "**The vast majority of questions either appear once or a few times.** It's possible Quora could have provided every possible unique combination of question (each question compared to every other question) but that would have generated a huge amount of data, and it would be very clear in the majority of cases that questions were not duplicates.\n",
    "\n",
    "**There is a very small number of questions appearing up to around ~50 times, and three questions that appear over 100 times (111, 120, and 157 times each).** These three questions appear to be outliers."
   ]
  },
  {
   "cell_type": "markdown",
   "metadata": {
    "collapsed": true,
    "deletable": true,
    "editable": true
   },
   "source": [
    "## Data Preprocessing\n",
    "In this section we will remove stop words and punctuation from question1 and question2 in train_df and test_df, and save copies of these two datafames as train_df_clean, and test_df_clean."
   ]
  },
  {
   "cell_type": "code",
   "execution_count": 7,
   "metadata": {
    "collapsed": false,
    "deletable": true,
    "editable": true
   },
   "outputs": [],
   "source": [
    "#from nltk.corpus import stopwords\n",
    "#stops = set(stopwords.words(\"english\"))\n",
    "\n",
    "#define custom stop words list\n",
    "stops = ['the','a','an','and','but','if','or','because','as','what','which','this','that','these','those','then',\n",
    "              'just','so','than','such','both','through','about','for','is','of','while','during','to','What','Which',\n",
    "              'Is','If','While','This']"
   ]
  },
  {
   "cell_type": "code",
   "execution_count": 10,
   "metadata": {
    "collapsed": false,
    "deletable": true,
    "editable": true
   },
   "outputs": [],
   "source": [
    "from string import punctuation\n",
    "import re\n",
    "from nltk.stem import PorterStemmer\n",
    "stemmer=PorterStemmer()\n",
    "\n",
    "def text_to_wordlist(text, remove_punctuation=True, remove_stop_words=True, porter_stemmer=True):\n",
    "    # Remove punctuation and stop words\n",
    "\n",
    "    # Remove punctuation\n",
    "    if remove_punctuation:\n",
    "        text = re.sub(r\"[^A-Za-z0-9^,!.\\/'+-=]\", \" \", text)\n",
    "    \n",
    "    # Optionally, remove stop words\n",
    "    if remove_stop_words:\n",
    "        text = text.split()\n",
    "        text = [w for w in text if not w in stops]\n",
    "        text = \" \".join(text)\n",
    "        \n",
    "    # Optionally, use porter stemmer\n",
    "    # Note, I'm also lowering the text here...\n",
    "    if porter_stemmer:\n",
    "        text = \" \".join([stemmer.stem(kw) for kw in text.lower().split(\" \")])\n",
    "    \n",
    "    if text == '':\n",
    "        text = 'empty'\n",
    "        #print(\"text empty\")\n",
    "    \n",
    "    return text"
   ]
  },
  {
   "cell_type": "code",
   "execution_count": 11,
   "metadata": {
    "collapsed": true,
    "deletable": true,
    "editable": true
   },
   "outputs": [],
   "source": [
    "def process_questions(question_list, questions, question_list_name, dataframe):\n",
    "    '''transform questions and display progress'''\n",
    "    for question in questions:\n",
    "        question_list.append(text_to_wordlist(question))\n",
    "        \n",
    "        #print out the progress of processing questions each 100000 processed\n",
    "        if len(question_list) % 250000 == 0:\n",
    "            progress = len(question_list)/len(dataframe) * 100\n",
    "            print(\"{} is {}% complete.\".format(question_list_name, round(progress, 1)))"
   ]
  },
  {
   "cell_type": "code",
   "execution_count": 12,
   "metadata": {
    "collapsed": false,
    "deletable": true,
    "editable": true
   },
   "outputs": [
    {
     "name": "stdout",
     "output_type": "stream",
     "text": [
      "train_question1 is 61.8% complete.\n",
      "train_question2 is 61.8% complete.\n"
     ]
    }
   ],
   "source": [
    "#process training question1 and question2 to remove punctuation and/or stop words\n",
    "train_question1 = []\n",
    "process_questions(train_question1, train_df.question1, 'train_question1', train_df)\n",
    "\n",
    "train_question2 = []\n",
    "process_questions(train_question2, train_df.question2.astype(str), 'train_question2', train_df)"
   ]
  },
  {
   "cell_type": "code",
   "execution_count": 16,
   "metadata": {
    "collapsed": false,
    "deletable": true,
    "editable": true
   },
   "outputs": [
    {
     "name": "stdout",
     "output_type": "stream",
     "text": [
      "test_question1 is 10.7% complete.\n",
      "test_question1 is 21.3% complete.\n",
      "test_question1 is 32.0% complete.\n",
      "test_question1 is 42.6% complete.\n",
      "test_question1 is 53.3% complete.\n",
      "test_question1 is 63.9% complete.\n",
      "test_question1 is 74.6% complete.\n",
      "test_question1 is 85.3% complete.\n",
      "test_question1 is 95.9% complete.\n",
      "test_question2 is 10.7% complete.\n",
      "test_question2 is 21.3% complete.\n",
      "test_question2 is 32.0% complete.\n",
      "test_question2 is 42.6% complete.\n",
      "test_question2 is 53.3% complete.\n",
      "test_question2 is 63.9% complete.\n",
      "test_question2 is 74.6% complete.\n",
      "test_question2 is 85.3% complete.\n",
      "test_question2 is 95.9% complete.\n"
     ]
    }
   ],
   "source": [
    "#process test dataset question1 and question2 to remove punctuation and/or stop words\n",
    "test_question1 = []\n",
    "process_questions(test_question1, test_df.question1.astype(str), 'test_question1', test_df)\n",
    "test_question2 = []\n",
    "process_questions(test_question2, test_df.question2.astype(str), 'test_question2', test_df)"
   ]
  },
  {
   "cell_type": "code",
   "execution_count": 41,
   "metadata": {
    "collapsed": false,
    "deletable": true,
    "editable": true
   },
   "outputs": [
    {
     "name": "stdout",
     "output_type": "stream",
     "text": [
      "step by step guid invest in share market in india\n",
      "What is the step by step guide to invest in share market in india?\n",
      "step by step guid invest in share market\n",
      "What is the step by step guide to invest in share market?\n",
      "\n",
      "stori kohinoor koh-i-noor diamond\n",
      "What is the story of Kohinoor (Koh-i-Noor) Diamond?\n",
      "would happen indian govern stole kohinoor koh-i-noor diamond back\n",
      "What would happen if the Indian government stole the Kohinoor (Koh-i-Noor) diamond back?\n",
      "\n"
     ]
    }
   ],
   "source": [
    "# review the results of the data preprocessing steps\n",
    "a=0\n",
    "for i in range(a,a+2):\n",
    "    print(train_question1[i])\n",
    "    print(train_df['question1'][i])\n",
    "    print(train_question2[i])\n",
    "    print(train_df['question2'][i])\n",
    "    print()"
   ]
  },
  {
   "cell_type": "code",
   "execution_count": 42,
   "metadata": {
    "collapsed": false,
    "deletable": true,
    "editable": true
   },
   "outputs": [],
   "source": [
    "#create separate training and test datasets that have been cleaned.\n",
    "train_df_clean = pd.DataFrame()\n",
    "test_df_clean = pd.DataFrame()\n",
    "train_df_clean = train_df.copy()\n",
    "test_df_clean = test_df.copy()\n",
    "\n",
    "train_df_clean['question1'] = train_question1\n",
    "train_df_clean['question2'] = train_question2\n",
    "test_df_clean['question1'] = test_question1\n",
    "test_df_clean['question2'] = test_question2"
   ]
  },
  {
   "cell_type": "code",
   "execution_count": 22,
   "metadata": {
    "collapsed": true,
    "deletable": true,
    "editable": true
   },
   "outputs": [],
   "source": [
    "#Saving our cleaned dataframes to disk for easy retrieval\n",
    "train_df_clean.to_csv(\"input/train_df_clean.csv\", sep=\"\\t\")\n",
    "test_df_clean.to_csv(\"input/test_df_clean.csv\", sep=\"\\t\")"
   ]
  },
  {
   "cell_type": "markdown",
   "metadata": {
    "deletable": true,
    "editable": true
   },
   "source": [
    "## Checkpoint 1:  Jump here to retrieve cleaned dataframes from disk."
   ]
  },
  {
   "cell_type": "code",
   "execution_count": 6,
   "metadata": {
    "collapsed": false,
    "deletable": true,
    "editable": true
   },
   "outputs": [
    {
     "name": "stdout",
     "output_type": "stream",
     "text": [
      "['Unnamed: 0' 'id' 'qid1' 'qid2' 'question1' 'question2' 'is_duplicate']\n",
      "['Unnamed: 0' 'test_id' 'question1' 'question2']\n",
      "Columns 'Unnamed: 0' dropped.\n",
      "(404290, 6)\n",
      "(2345796, 3)\n"
     ]
    }
   ],
   "source": [
    "# Retrieve our cleaned dataframe files from disk if desired\n",
    "train_df_clean = pd.read_csv(\"input/train_df_clean.csv\", sep='\\t')\n",
    "test_df_clean = pd.read_csv(\"input/test_df_clean.csv\", sep='\\t')\n",
    "\n",
    "# Print out the columns of the loaded dataframes\n",
    "print(train_df_clean.columns.values)\n",
    "print(test_df_clean.columns.values)\n",
    "\n",
    "# Drop the unnamed column\n",
    "train_df_clean = train_df_clean.drop('Unnamed: 0', 1)\n",
    "test_df_clean = test_df_clean.drop('Unnamed: 0', 1)\n",
    "print(\"Columns 'Unnamed: 0' dropped.\")\n",
    "\n",
    "# Print out the shape for confirmation\n",
    "print(train_df_clean.shape)\n",
    "print(test_df_clean.shape)"
   ]
  },
  {
   "cell_type": "markdown",
   "metadata": {
    "deletable": true,
    "editable": true
   },
   "source": [
    "## Feature Engineering"
   ]
  },
  {
   "cell_type": "code",
   "execution_count": 75,
   "metadata": {
    "collapsed": false,
    "deletable": true,
    "editable": true
   },
   "outputs": [
    {
     "name": "stdout",
     "output_type": "stream",
     "text": [
      "   id  qid1  qid2                                          question1  \\\n",
      "0   0     1     2  What is the step by step guide to invest in sh...   \n",
      "\n",
      "                                           question2  is_duplicate  \n",
      "0  What is the step by step guide to invest in sh...             0  \n",
      "   test_id                                          question1  \\\n",
      "0        0  How does the Surface Pro himself 4 compare wit...   \n",
      "\n",
      "                                           question2  \n",
      "0  Why did Microsoft choose core m3 and not core ...  \n"
     ]
    }
   ],
   "source": [
    "#Reset the data preprocessing and determine whether or not to proceed with cleaned dataframes or the original\n",
    "proceed_with_clean_words= False\n",
    "\n",
    "if proceed_with_clean_words:\n",
    "    train_df_x = train_df_clean\n",
    "    test_df_x = test_df_clean\n",
    "else:\n",
    "    train_df_x = train_df\n",
    "    test_df_x = test_df \n",
    "    \n",
    "print(train_df_x.head(n=1))\n",
    "print(test_df_x.head(n=1))"
   ]
  },
  {
   "cell_type": "markdown",
   "metadata": {
    "deletable": true,
    "editable": true
   },
   "source": [
    "### Word Match Sharing\n",
    "In this section we will calculate the percentage of words that are shared between the two question pairs, and review the distributions across our training set where the questions are duplicate and where the are not. "
   ]
  },
  {
   "cell_type": "code",
   "execution_count": 76,
   "metadata": {
    "collapsed": false,
    "deletable": true,
    "editable": true
   },
   "outputs": [
    {
     "data": {
      "text/plain": [
       "<matplotlib.text.Text at 0x1862eced0>"
      ]
     },
     "execution_count": 76,
     "metadata": {},
     "output_type": "execute_result"
    },
    {
     "data": {
      "image/png": "[encoded data removed]",
      "text/plain": [
       "<matplotlib.figure.Figure at 0x186eb5850>"
      ]
     },
     "metadata": {},
     "output_type": "display_data"
    }
   ],
   "source": [
    "def word_match_share(row):\n",
    "    q1words = {}\n",
    "    q2words = {}\n",
    "    for word in str(row['question1']).lower().split():\n",
    "            q1words[word] = 1\n",
    "    for word in str(row['question2']).lower().split():\n",
    "            q2words[word] = 1\n",
    "    if len(q1words) == 0 or len(q2words) == 0:\n",
    "        # Several questions include only stopwords\n",
    "        return 0\n",
    "    shared_words_in_q1 = [w for w in q1words.keys() if w in q2words]\n",
    "    shared_words_in_q2 = [w for w in q2words.keys() if w in q1words]\n",
    "    R = float((len(shared_words_in_q1) + len(shared_words_in_q2)))/float((len(q1words) + len(q2words)))\n",
    "    return R\n",
    "\n",
    "plt.figure(figsize=(15, 5))\n",
    "train_word_match = train_df_x.apply(word_match_share, axis=1, raw=True)\n",
    "plt.hist(train_word_match[train_df_x['is_duplicate'] == 0], bins=20, normed=True, label='Not Duplicate')\n",
    "plt.hist(train_word_match[train_df_x['is_duplicate'] == 1], bins=20, normed=True, alpha=0.7, label='Duplicate')\n",
    "plt.legend()\n",
    "plt.title('Label distribution over word_match_share', fontsize=15)\n",
    "plt.xlabel('word_match_share', fontsize=15)"
   ]
  },
  {
   "cell_type": "markdown",
   "metadata": {
    "deletable": true,
    "editable": true
   },
   "source": [
    "From this Distribution chart we can see that the remaining shared words does have a certain amount of predictive power in terms of whether two questions are duplicate or not. In particular, the vast majority of question pairs with a score of less than .2 in this word share distribution are all 'Not Duplicate'.  However it's not so great at separating out the Duplicates. For those Question Pairs above .4 we see that there are approximately twice as many Duplicate question pairs as compared to Not Duplicates yet there still is substantial overlap."
   ]
  },
  {
   "cell_type": "markdown",
   "metadata": {
    "deletable": true,
    "editable": true
   },
   "source": [
    "## Levenshtein Ratio\n",
    "Calculating Levenstein ratio over the two strings and visualizing the results."
   ]
  },
  {
   "cell_type": "code",
   "execution_count": 77,
   "metadata": {
    "collapsed": false,
    "deletable": true,
    "editable": true
   },
   "outputs": [],
   "source": [
    "import Levenshtein as lev\n",
    "\n",
    "t = []\n",
    "for r in zip(train_df_x['question1'].astype(str), train_df_x['question2'].astype(str)):\n",
    "    t.append(lev.ratio(r[0], r[1]))\n",
    "train_df_x['lev_ratio'] = t\n",
    "\n",
    "t = []\n",
    "for r in zip(test_df_x['question1'].astype(str), test_df_x['question2'].astype(str)):\n",
    "    t.append(lev.ratio(r[0], r[1]))\n",
    "test_df_x['lev_ratio'] = t\n",
    "\n",
    "del t"
   ]
  },
  {
   "cell_type": "code",
   "execution_count": 78,
   "metadata": {
    "collapsed": false,
    "deletable": true,
    "editable": true
   },
   "outputs": [
    {
     "data": {
      "text/plain": [
       "<matplotlib.text.Text at 0x2b0b27590>"
      ]
     },
     "execution_count": 78,
     "metadata": {},
     "output_type": "execute_result"
    },
    {
     "data": {
      "image/png": "[encoded data removed]",
      "text/plain": [
       "<matplotlib.figure.Figure at 0x16eecdad0>"
      ]
     },
     "metadata": {},
     "output_type": "display_data"
    }
   ],
   "source": [
    "plt.figure(figsize=(15, 5))\n",
    "plt.hist(train_df_x[train_df_x['is_duplicate']== 0]['lev_ratio'], bins=100, range=[0, 1], color=pal[2], normed=True, alpha=0.5, label='not duplicate')\n",
    "plt.hist(train_df_x[train_df_x['is_duplicate']== 1]['lev_ratio'], bins=100, range=[0, 1], color=pal[1], normed=True, alpha=0.5, label='duplicate')\n",
    "plt.title('Label distribution over Levenshtein Ratio', fontsize=15)\n",
    "plt.legend()\n",
    "plt.xlabel('Lev Ratio', fontsize=15)\n",
    "plt.ylabel('Distribution', fontsize=15)"
   ]
  },
  {
   "cell_type": "markdown",
   "metadata": {
    "deletable": true,
    "editable": true
   },
   "source": [
    "## Calculating Cosine Similarity using TfidfVectorizer"
   ]
  },
  {
   "cell_type": "code",
   "execution_count": 79,
   "metadata": {
    "collapsed": true,
    "deletable": true,
    "editable": true
   },
   "outputs": [],
   "source": [
    "# put all our training questions in a single list and all testing questions in a single list.\n",
    "train_q = pd.Series(train_df_x['question1'].tolist() + train_df_x['question2'].tolist()).astype(str)\n",
    "test_q = pd.Series(test_df_x['question1'].tolist() + test_df_x['question2'].tolist()).astype(str)"
   ]
  },
  {
   "cell_type": "code",
   "execution_count": 140,
   "metadata": {
    "collapsed": false,
    "deletable": true,
    "editable": true
   },
   "outputs": [
    {
     "name": "stdout",
     "output_type": "stream",
     "text": [
      "Training Question 1 Shape:  (404290, 47302)\n",
      "Training Question 2 Shape:  (404290, 47302)\n",
      "TF-IDF Fit Transform time took 0.42 minutes\n"
     ]
    }
   ],
   "source": [
    "tfidfstart = time.time()\n",
    "\n",
    "from sklearn.feature_extraction.text import TfidfVectorizer\n",
    "tfidf_vectorizer = TfidfVectorizer(min_df = 2)\n",
    "#tfidf_matrix = tfidf_vectorizer.fit_transform(train_q)\n",
    "\n",
    "#fit the TfidfVectorizer to text present in questions 1 and 2.\n",
    "tfidf_matrix = tfidf_vectorizer.fit(pd.concat((train_df_x.ix[:,'question1'],train_df_x.ix[:,'question2'])).unique())\n",
    "\n",
    "#transform to generate the vectors for each question\n",
    "trainQuestion1_tfs = tfidf_vectorizer.transform(train_df_x.ix[:,'question1'])\n",
    "trainQuestion2_tfs = tfidf_vectorizer.transform(train_df_x.ix[:,'question2'])\n",
    "\n",
    "print(\"Training Question 1 Shape: \", trainQuestion1_tfs.shape)\n",
    "print(\"Training Question 2 Shape: \", trainQuestion2_tfs.shape)\n",
    "\n",
    "tfidf_complete = (time.time() - tfidfstart)/60.0\n",
    "print(\"TF-IDF Fit Transform time took %.2f minutes\" % (tfidf_complete))"
   ]
  },
  {
   "cell_type": "code",
   "execution_count": 141,
   "metadata": {
    "collapsed": false,
    "deletable": true,
    "editable": true
   },
   "outputs": [
    {
     "name": "stdout",
     "output_type": "stream",
     "text": [
      "Cosine Similarity is 24.7% complete.\n",
      "Cosine Similarity is 49.5% complete.\n",
      "Cosine Similarity is 74.2% complete.\n",
      "Cosine Similarity is 98.9% complete.\n",
      "TF-IDF Fit Transform time took 6.01 minutes\n"
     ]
    }
   ],
   "source": [
    "from sklearn.metrics.pairwise import cosine_similarity\n",
    "start_train2 = time.time()\n",
    "\n",
    "cos_sim_train = []\n",
    "for x in range(0,404290):\n",
    "    cos_sim_train.append((cosine_similarity(trainQuestion1_tfs[x],trainQuestion2_tfs[x]))[0][0])\n",
    "    x = x+1\n",
    "    \n",
    "    #print out the progress of processing cosine similarity each 100000 processed\n",
    "    if x % 100000 == 0:\n",
    "        progress = x/404290.0 * 100\n",
    "        print(\"Cosine Similarity is {}% complete.\".format(round(progress, 1)))\n",
    "\n",
    "#print(cos_sim_train)\n",
    "\n",
    "complete_train1 = (time.time() - start_train2)/60.0\n",
    "print(\"TF-IDF Fit Transform time took %.2f minutes\" % (complete_train1))"
   ]
  },
  {
   "cell_type": "code",
   "execution_count": 142,
   "metadata": {
    "collapsed": false,
    "deletable": true,
    "editable": true
   },
   "outputs": [
    {
     "data": {
      "text/plain": [
       "<matplotlib.text.Text at 0x182aeb050>"
      ]
     },
     "execution_count": 142,
     "metadata": {},
     "output_type": "execute_result"
    },
    {
     "data": {
      "image/png": "[encoded data removed]",
      "text/plain": [
       "<matplotlib.figure.Figure at 0x17b06e250>"
      ]
     },
     "metadata": {},
     "output_type": "display_data"
    }
   ],
   "source": [
    "train_df_x['cos_sim'] = cos_sim_train\n",
    "\n",
    "#Label distribution vs Cosine Similarity\n",
    "plt.figure(figsize=(15, 5))\n",
    "plt.hist(train_df_x[train_df_x['is_duplicate']== 0]['cos_sim'], bins=100, range=[0, 1], color=pal[2], normed=True, alpha=0.5, label='not duplicate')\n",
    "plt.hist(train_df_x[train_df_x['is_duplicate']== 1]['cos_sim'], bins=100, range=[0, 1], color=pal[1], normed=True, alpha=0.5, label='duplicate')\n",
    "plt.title('Label Distribution vs. Cosine Similarity', fontsize=20)\n",
    "plt.legend()\n",
    "plt.xlabel('Cosine Similarity', fontsize=20)\n",
    "plt.ylabel('Distribution', fontsize=20)"
   ]
  },
  {
   "cell_type": "code",
   "execution_count": 143,
   "metadata": {
    "collapsed": false,
    "deletable": true,
    "editable": true
   },
   "outputs": [
    {
     "name": "stdout",
     "output_type": "stream",
     "text": [
      "Test Question 1 Shape:  (2345796, 47302)\n",
      "Test Question 2 Shape:  (2345796, 47302)\n",
      "TF-IDF Transform time on Test set took 1.60 minutes\n"
     ]
    }
   ],
   "source": [
    "#Transform Test values\n",
    "tfidfstart_test1 = time.time()\n",
    "\n",
    "testQuestion1_tfs = tfidf_vectorizer.transform(test_df_x.ix[:,'question1'])\n",
    "testQuestion2_tfs = tfidf_vectorizer.transform(test_df_x.ix[:,'question2'])\n",
    "print(\"Test Question 1 Shape: \", testQuestion1_tfs.shape)\n",
    "print(\"Test Question 2 Shape: \", testQuestion2_tfs.shape)\n",
    "\n",
    "tfidf_complete_test1 = (time.time() - tfidfstart_test1)/60.0\n",
    "print(\"TF-IDF Transform time on Test set took %.2f minutes\" % (tfidf_complete_test1))"
   ]
  },
  {
   "cell_type": "code",
   "execution_count": 144,
   "metadata": {
    "collapsed": false,
    "deletable": true,
    "editable": true
   },
   "outputs": [
    {
     "name": "stdout",
     "output_type": "stream",
     "text": [
      "Cosine Similarity is 10.7% complete.\n",
      "Cosine Similarity is 21.3% complete.\n",
      "Cosine Similarity is 32.0% complete.\n",
      "Cosine Similarity is 42.6% complete.\n",
      "Cosine Similarity is 53.3% complete.\n",
      "Cosine Similarity is 63.9% complete.\n",
      "Cosine Similarity is 74.6% complete.\n",
      "Cosine Similarity is 85.3% complete.\n",
      "Cosine Similarity is 95.9% complete.\n",
      "2345796\n",
      "Generating Cosine Sim. Values on Test set took 33.44 minutes\n"
     ]
    }
   ],
   "source": [
    "#Get Cosine Similarity values for test set\n",
    "tfidfstart_test2 = time.time()\n",
    "\n",
    "x = 0\n",
    "cos_sim_test = []        \n",
    "for x in range(0,2345796):\n",
    "    cos_sim_test.append((cosine_similarity(testQuestion1_tfs[x],testQuestion2_tfs[x]))[0][0])\n",
    "    x = x+1\n",
    "    \n",
    "    #print out the progress of processing cosine similarity each 100000 processed\n",
    "    if x % 250000 == 0:\n",
    "        progress = x/2345796.0 * 100\n",
    "        print(\"Cosine Similarity is {}% complete.\".format(round(progress, 1)))        \n",
    "        \n",
    "# print out length of the list for validation.\n",
    "print(len(cos_sim_test))\n",
    "\n",
    "tfidf_complete_test2 = (time.time() - tfidfstart_test2)/60.0\n",
    "print(\"Generating Cosine Sim. Values on Test set took %.2f minutes\" % (tfidf_complete_test2))"
   ]
  },
  {
   "cell_type": "code",
   "execution_count": 154,
   "metadata": {
    "collapsed": false,
    "deletable": true,
    "editable": true
   },
   "outputs": [],
   "source": [
    "# First we create our training and testing data\n",
    "x_train = pd.DataFrame()\n",
    "x_test = pd.DataFrame()\n",
    "x_train['word_match'] = train_word_match\n",
    "#x_train['tfidf_word_match'] = tfidf_train_word_match\n",
    "x_test['word_match'] = test_df_x.apply(word_match_share, axis=1, raw=True)\n",
    "#x_test['tfidf_word_match'] = test_df.apply(tfidf_word_match_share, axis=1, raw=True)\n",
    "\n",
    "# adding word_delta & char_delta variables\n",
    "#x_train['word_delta'] = train_df['word_delta']\n",
    "#x_train['char_delta'] = train_df['char_delta']\n",
    "#x_test['word_delta'] = test_df['word_delta']\n",
    "#x_test['char_delta'] = test_df['char_delta']\n",
    "\n",
    "# adding levenshtein ratios\n",
    "x_train['lev_ratio'] = train_df_x['lev_ratio']\n",
    "x_test['lev_ratio'] = test_df_x['lev_ratio']\n",
    "\n",
    "# adding tf-idf cosine similarity scores\n",
    "x_train['cos_sim'] = cos_sim_train\n",
    "x_test['cos_sim'] = cos_sim_test\n",
    "\n",
    "\n",
    "y_train = train_df_x['is_duplicate'].values"
   ]
  },
  {
   "cell_type": "markdown",
   "metadata": {
    "collapsed": true,
    "deletable": true,
    "editable": true
   },
   "source": [
    "## Rebalancing the Data\n",
    "This section was taken from: https://www.kaggle.com/anokas/data-analysis-xgboost-starter-0-35460-lb"
   ]
  },
  {
   "cell_type": "code",
   "execution_count": 155,
   "metadata": {
    "collapsed": false,
    "deletable": true,
    "editable": true
   },
   "outputs": [
    {
     "name": "stdout",
     "output_type": "stream",
     "text": [
      "0.191243661001\n"
     ]
    }
   ],
   "source": [
    "pos_train = x_train[y_train == 1]\n",
    "neg_train = x_train[y_train == 0]\n",
    "\n",
    "# Now we oversample the negative class\n",
    "# There is likely a much more elegant way to do this...\n",
    "p = 0.165\n",
    "scale = ((len(pos_train) / (len(pos_train) + len(neg_train))) / p) - 1\n",
    "while scale > 1:\n",
    "    neg_train = pd.concat([neg_train, neg_train])\n",
    "    scale -=1\n",
    "neg_train = pd.concat([neg_train, neg_train[:int(scale * len(neg_train))]])\n",
    "print(len(pos_train) / (len(pos_train) + len(neg_train)))\n",
    "\n",
    "x_train = pd.concat([pos_train, neg_train])\n",
    "y_train = (np.zeros(len(pos_train)) + 1).tolist() + np.zeros(len(neg_train)).tolist()\n",
    "del pos_train, neg_train"
   ]
  },
  {
   "cell_type": "code",
   "execution_count": 156,
   "metadata": {
    "collapsed": false,
    "deletable": true,
    "editable": true
   },
   "outputs": [],
   "source": [
    "# Finally, we split some of the data off for validation\n",
    "from sklearn.cross_validation import train_test_split\n",
    "\n",
    "x_train, x_valid, y_train, y_valid = train_test_split(x_train, y_train, test_size=0.2, random_state=0)"
   ]
  },
  {
   "cell_type": "markdown",
   "metadata": {
    "deletable": true,
    "editable": true
   },
   "source": [
    "## Benchmark Random Forests"
   ]
  },
  {
   "cell_type": "code",
   "execution_count": 158,
   "metadata": {
    "collapsed": true,
    "deletable": true,
    "editable": true
   },
   "outputs": [],
   "source": [
    "from sklearn.model_selection import GridSearchCV\n",
    "from sklearn.encajuisemble import RandomForestClassifier\n",
    "from sklearn.metrics import log_loss \n",
    "\n",
    "#parameters_rf = {'n_estimators':[10, 50, 100, 200, 300], 'random_state':[0]}\n",
    "parameters_rf = {'n_estimators':[10], 'random_state':[0]}"
   ]
  },
  {
   "cell_type": "code",
   "execution_count": 159,
   "metadata": {
    "collapsed": false,
    "deletable": true,
    "editable": true
   },
   "outputs": [
    {
     "name": "stdout",
     "output_type": "stream",
     "text": [
      "Best estimator:  RandomForestClassifier(bootstrap=True, class_weight=None, criterion='gini',\n",
      "            max_depth=None, max_features='auto', max_leaf_nodes=None,\n",
      "            min_impurity_split=1e-07, min_samples_leaf=1,\n",
      "            min_samples_split=2, min_weight_fraction_leaf=0.0,\n",
      "            n_estimators=10, n_jobs=1, oob_score=False, random_state=0,\n",
      "            verbose=0, warm_start=False)\n"
     ]
    }
   ],
   "source": [
    "rand_forest_clf = RandomForestClassifier()\n",
    "cv_rf = GridSearchCV(rand_forest_clf, parameters_rf)\n",
    "\n",
    "#rand_forest_clf = RandomForestClassifier(n_estimators=200, random_state=0)\n",
    "cv_rf = cv_rf.fit(x_train, y_train)\n",
    "print(\"Best estimator: \", cv_rf.best_estimator_)"
   ]
  },
  {
   "cell_type": "code",
   "execution_count": 160,
   "metadata": {
    "collapsed": false,
    "deletable": true,
    "editable": true
   },
   "outputs": [
    {
     "data": {
      "text/plain": [
       "0.75660028056316053"
      ]
     },
     "execution_count": 160,
     "metadata": {},
     "output_type": "execute_result"
    }
   ],
   "source": [
    "rand_forest_y_pred = cv_rf.predict_proba(x_valid)\n",
    "rand_forest_y_pred = rand_forest_y_pred[:,1]\n",
    "\n",
    "log_loss(y_valid, rand_forest_y_pred) "
   ]
  },
  {
   "cell_type": "code",
   "execution_count": 110,
   "metadata": {
    "collapsed": false,
    "deletable": true,
    "editable": true
   },
   "outputs": [],
   "source": [
    "rand_forest_x_test = cv_rf.predict_proba(x_test)\n",
    "rand_forest_x_test = rand_forest_x_test[:,1]"
   ]
  },
  {
   "cell_type": "markdown",
   "metadata": {
    "deletable": true,
    "editable": true
   },
   "source": [
    "### Save the random forest prediction output"
   ]
  },
  {
   "cell_type": "code",
   "execution_count": 111,
   "metadata": {
    "collapsed": true,
    "deletable": true,
    "editable": true
   },
   "outputs": [],
   "source": [
    "sub = pd.DataFrame()\n",
    "sub['test_id'] = test_df['test_id']\n",
    "sub['is_duplicate'] = rand_forest_x_test\n",
    "sub.to_csv('random_forest_23-may-2017.csv', index=False)"
   ]
  },
  {
   "cell_type": "markdown",
   "metadata": {
    "deletable": true,
    "editable": true
   },
   "source": [
    "## Logistic Regression"
   ]
  },
  {
   "cell_type": "code",
   "execution_count": 91,
   "metadata": {
    "collapsed": true,
    "deletable": true,
    "editable": true
   },
   "outputs": [],
   "source": [
    "from sklearn.linear_model import LogisticRegression\n",
    "\n",
    "#parameters_lr = {'solver':['sag'], 'C':[.0011, 0.001, 0.0009], 'random_state':[0]}\n",
    "parameters_lr = {'solver':['sag'], 'C':[.0011], 'random_state':[0]}"
   ]
  },
  {
   "cell_type": "code",
   "execution_count": 92,
   "metadata": {
    "collapsed": false,
    "deletable": true,
    "editable": true
   },
   "outputs": [
    {
     "name": "stdout",
     "output_type": "stream",
     "text": [
      "Best estimator:  LogisticRegression(C=0.0011, class_weight=None, dual=False,\n",
      "          fit_intercept=True, intercept_scaling=1, max_iter=100,\n",
      "          multi_class='ovr', n_jobs=1, penalty='l2', random_state=0,\n",
      "          solver='sag', tol=0.0001, verbose=0, warm_start=False)\n"
     ]
    }
   ],
   "source": [
    "\n",
    "logreg = LogisticRegression()\n",
    "cv_lr = GridSearchCV(logreg, parameters_lr)\n",
    "#logreg = LogisticRegression(C=1, random_state=0)\n",
    "cv_lr = cv_lr.fit(x_train, y_train)\n",
    "print(\"Best estimator: \", cv_lr.best_estimator_)"
   ]
  },
  {
   "cell_type": "code",
   "execution_count": 93,
   "metadata": {
    "collapsed": false,
    "deletable": true,
    "editable": true
   },
   "outputs": [
    {
     "data": {
      "text/plain": [
       "0.43963457923139593"
      ]
     },
     "execution_count": 93,
     "metadata": {},
     "output_type": "execute_result"
    }
   ],
   "source": [
    "logreg_y_pred = cv_lr.predict_proba(x_valid)\n",
    "logreg_y_pred = logreg_y_pred[:,1]\n",
    "\n",
    "log_loss(y_valid, logreg_y_pred) "
   ]
  },
  {
   "cell_type": "code",
   "execution_count": 115,
   "metadata": {
    "collapsed": false,
    "deletable": true,
    "editable": true
   },
   "outputs": [],
   "source": [
    "#Create predictions for the test dataset\n",
    "logreg_x_test = cv_lr.predict_proba(x_test)\n",
    "logreg_x_test = logreg_x_test[:,1]"
   ]
  },
  {
   "cell_type": "markdown",
   "metadata": {
    "deletable": true,
    "editable": true
   },
   "source": [
    "### Save the logistic regression prediction output"
   ]
  },
  {
   "cell_type": "code",
   "execution_count": 116,
   "metadata": {
    "collapsed": true,
    "deletable": true,
    "editable": true
   },
   "outputs": [],
   "source": [
    "sub = pd.DataFrame()\n",
    "sub['test_id'] = test_df['test_id']\n",
    "sub['is_duplicate'] = logreg_x_test\n",
    "sub.to_csv('logreg_23-may-2017.csv', index=False)"
   ]
  },
  {
   "cell_type": "markdown",
   "metadata": {
    "deletable": true,
    "editable": true
   },
   "source": [
    "## XGBoost\n",
    "Now we can finally run XGBoost on our data, in order to see the score on the leaderboard!"
   ]
  },
  {
   "cell_type": "code",
   "execution_count": 157,
   "metadata": {
    "collapsed": false,
    "deletable": true,
    "editable": true
   },
   "outputs": [
    {
     "name": "stdout",
     "output_type": "stream",
     "text": [
      "[0]\ttrain-logloss:0.567585\tvalid-logloss:0.5683\n",
      "Multiple eval metrics have been passed: 'valid-logloss' will be used for early stopping.\n",
      "\n",
      "Will train until valid-logloss hasn't improved in 50 rounds.\n",
      "[10]\ttrain-logloss:0.381051\tvalid-logloss:0.384644\n",
      "[20]\ttrain-logloss:0.375008\tvalid-logloss:0.379587\n",
      "[30]\ttrain-logloss:0.372641\tvalid-logloss:0.378073\n",
      "[40]\ttrain-logloss:0.370106\tvalid-logloss:0.376857\n",
      "[50]\ttrain-logloss:0.368095\tvalid-logloss:0.376163\n",
      "[60]\ttrain-logloss:0.366605\tvalid-logloss:0.375688\n",
      "[70]\ttrain-logloss:0.365025\tvalid-logloss:0.375311\n",
      "[80]\ttrain-logloss:0.363254\tvalid-logloss:0.37469\n",
      "[90]\ttrain-logloss:0.361898\tvalid-logloss:0.374167\n",
      "[100]\ttrain-logloss:0.360691\tvalid-logloss:0.37384\n",
      "[110]\ttrain-logloss:0.359489\tvalid-logloss:0.373585\n",
      "[120]\ttrain-logloss:0.358006\tvalid-logloss:0.37327\n",
      "[130]\ttrain-logloss:0.356138\tvalid-logloss:0.372836\n",
      "[140]\ttrain-logloss:0.354772\tvalid-logloss:0.372503\n",
      "[150]\ttrain-logloss:0.353647\tvalid-logloss:0.372276\n",
      "[160]\ttrain-logloss:0.352303\tvalid-logloss:0.371935\n",
      "[170]\ttrain-logloss:0.35137\tvalid-logloss:0.371762\n",
      "[180]\ttrain-logloss:0.350101\tvalid-logloss:0.371355\n",
      "[190]\ttrain-logloss:0.348832\tvalid-logloss:0.371041\n",
      "[200]\ttrain-logloss:0.34758\tvalid-logloss:0.370854\n",
      "[210]\ttrain-logloss:0.346556\tvalid-logloss:0.370667\n",
      "[220]\ttrain-logloss:0.345544\tvalid-logloss:0.370349\n",
      "[230]\ttrain-logloss:0.344872\tvalid-logloss:0.370196\n",
      "[240]\ttrain-logloss:0.34318\tvalid-logloss:0.369795\n",
      "[250]\ttrain-logloss:0.342811\tvalid-logloss:0.369737\n",
      "[260]\ttrain-logloss:0.341754\tvalid-logloss:0.369541\n",
      "[270]\ttrain-logloss:0.340584\tvalid-logloss:0.36924\n",
      "[280]\ttrain-logloss:0.339315\tvalid-logloss:0.368983\n",
      "[290]\ttrain-logloss:0.338117\tvalid-logloss:0.368754\n",
      "[300]\ttrain-logloss:0.337519\tvalid-logloss:0.36862\n",
      "[310]\ttrain-logloss:0.337103\tvalid-logloss:0.368579\n",
      "[320]\ttrain-logloss:0.3366\tvalid-logloss:0.368578\n",
      "[330]\ttrain-logloss:0.336078\tvalid-logloss:0.368485\n",
      "[340]\ttrain-logloss:0.334903\tvalid-logloss:0.368072\n",
      "[350]\ttrain-logloss:0.333956\tvalid-logloss:0.367899\n",
      "[360]\ttrain-logloss:0.332621\tvalid-logloss:0.367605\n",
      "[370]\ttrain-logloss:0.331762\tvalid-logloss:0.367415\n",
      "[380]\ttrain-logloss:0.331153\tvalid-logloss:0.367299\n",
      "[390]\ttrain-logloss:0.33051\tvalid-logloss:0.367117\n",
      "[399]\ttrain-logloss:0.329826\tvalid-logloss:0.366998\n"
     ]
    }
   ],
   "source": [
    "import xgboost as xgb\n",
    "\n",
    "# Set our parameters for xgboost\n",
    "params = {}\n",
    "params['objective'] = 'binary:logistic'\n",
    "params['eval_metric'] = 'logloss'\n",
    "params['eta'] = 0.3\n",
    "params['max_depth'] = 8\n",
    "#params['min_child_weight'] = 1\n",
    "#params['gamma'] = 0.01\n",
    "#params['subsample'] = 0.8\n",
    "#params['colsample_bytree'] = 0.8\n",
    "#params['scale_pos_weight'] = 1\n",
    "\n",
    "d_train = xgb.DMatrix(x_train, label=y_train)\n",
    "d_valid = xgb.DMatrix(x_valid, label=y_valid)\n",
    "\n",
    "watchlist = [(d_train, 'train'), (d_valid, 'valid')]\n",
    "\n",
    "bst = xgb.train(params, d_train, 400, watchlist, early_stopping_rounds=50, verbose_eval=10)"
   ]
  },
  {
   "cell_type": "code",
   "execution_count": 133,
   "metadata": {
    "collapsed": false,
    "deletable": true,
    "editable": true
   },
   "outputs": [],
   "source": [
    "d_test = xgb.DMatrix(x_test)\n",
    "p_test = bst.predict(d_test)"
   ]
  },
  {
   "cell_type": "code",
   "execution_count": 134,
   "metadata": {
    "collapsed": true,
    "deletable": true,
    "editable": true
   },
   "outputs": [],
   "source": [
    "sub = pd.DataFrame()\n",
    "sub['test_id'] = test_df['test_id']\n",
    "sub['is_duplicate'] = p_test\n",
    "sub.to_csv('xgb_23-may-2017.csv', index=False)"
   ]
  },
  {
   "cell_type": "code",
   "execution_count": 120,
   "metadata": {
    "collapsed": false,
    "deletable": true,
    "editable": true
   },
   "outputs": [
    {
     "data": {
      "text/html": [
       "<div>\n",
       "<table border=\"1\" class=\"dataframe\">\n",
       "  <thead>\n",
       "    <tr style=\"text-align: right;\">\n",
       "      <th></th>\n",
       "      <th>test_id</th>\n",
       "      <th>is_duplicate</th>\n",
       "    </tr>\n",
       "  </thead>\n",
       "  <tbody>\n",
       "    <tr>\n",
       "      <th>0</th>\n",
       "      <td>0</td>\n",
       "      <td>0.095496</td>\n",
       "    </tr>\n",
       "    <tr>\n",
       "      <th>1</th>\n",
       "      <td>1</td>\n",
       "      <td>0.164058</td>\n",
       "    </tr>\n",
       "    <tr>\n",
       "      <th>2</th>\n",
       "      <td>2</td>\n",
       "      <td>0.209786</td>\n",
       "    </tr>\n",
       "    <tr>\n",
       "      <th>3</th>\n",
       "      <td>3</td>\n",
       "      <td>0.063417</td>\n",
       "    </tr>\n",
       "    <tr>\n",
       "      <th>4</th>\n",
       "      <td>4</td>\n",
       "      <td>0.292574</td>\n",
       "    </tr>\n",
       "  </tbody>\n",
       "</table>\n",
       "</div>"
      ],
      "text/plain": [
       "   test_id  is_duplicate\n",
       "0        0      0.095496\n",
       "1        1      0.164058\n",
       "2        2      0.209786\n",
       "3        3      0.063417\n",
       "4        4      0.292574"
      ]
     },
     "execution_count": 120,
     "metadata": {},
     "output_type": "execute_result"
    }
   ],
   "source": [
    "sub.head()"
   ]
  }
 ],
 "metadata": {
  "kernelspec": {
   "display_name": "Python 2",
   "language": "python",
   "name": "python2"
  },
  "language_info": {
   "codemirror_mode": {
    "name": "ipython",
    "version": 2
   },
   "file_extension": ".py",
   "mimetype": "text/x-python",
   "name": "python",
   "nbconvert_exporter": "python",
   "pygments_lexer": "ipython2",
   "version": "2.7.13"
  }
 },
 "nbformat": 4,
 "nbformat_minor": 2
}
