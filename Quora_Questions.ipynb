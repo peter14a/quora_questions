{
 "cells": [
  {
   "cell_type": "markdown",
   "metadata": {
    "deletable": true,
    "editable": true
   },
   "source": [
    "# Quora Question Pairs - Kaggle Prediction Competition"
   ]
  },
  {
   "cell_type": "markdown",
   "metadata": {
    "deletable": true,
    "editable": true
   },
   "source": [
    "Running the Quora Question Pairs Prediction Competition. Details can be found at: https://www.kaggle.com/c/quora-question-pairs"
   ]
  },
  {
   "cell_type": "markdown",
   "metadata": {
    "deletable": true,
    "editable": true
   },
   "source": [
    "## Importing Data"
   ]
  },
  {
   "cell_type": "code",
   "execution_count": 1,
   "metadata": {
    "collapsed": false,
    "deletable": true,
    "editable": true
   },
   "outputs": [
    {
     "name": "stdout",
     "output_type": "stream",
     "text": [
      "sample_submission.csv\n",
      "sample_submission.csv.zip\n",
      "test.csv\n",
      "test.csv.zip\n",
      "train.csv\n",
      "train.csv.zip\n",
      "\n",
      "(404288, 6)\n",
      "(2345796, 3)\n"
     ]
    }
   ],
   "source": [
    "# import packages\n",
    "import numpy as np\n",
    "import pandas as pd\n",
    "import matplotlib.pyplot as plt\n",
    "import seaborn as sns\n",
    "from __future__ import print_function, division\n",
    "%matplotlib inline\n",
    "\n",
    "pal = sns.color_palette()\n",
    "\n",
    "# Input data files are available in the \"input/\" directory.\n",
    "train_df = pd.read_csv(\"input/train.csv\")\n",
    "test_df = pd.read_csv(\"input/test.csv\")\n",
    "\n",
    "train_df = train_df.dropna(how=\"any\").reset_index(drop=True)\n",
    "#test_df = test_df.dropna(how=\"any\").reset_index(drop=True)\n",
    "test_df.ix[test_df['question2'].isnull(),['question1','question2']] = 'empty question'\n",
    "\n",
    "from subprocess import check_output\n",
    "print(check_output([\"ls\", \"input\"]).decode(\"utf8\"))\n",
    "\n",
    "print(train_df.shape)\n",
    "print(test_df.shape)"
   ]
  },
  {
   "cell_type": "markdown",
   "metadata": {
    "deletable": true,
    "editable": true
   },
   "source": [
    "View the first 10 records from each of **train_df** and **test_df**."
   ]
  },
  {
   "cell_type": "code",
   "execution_count": 36,
   "metadata": {
    "collapsed": false,
    "deletable": true,
    "editable": true
   },
   "outputs": [
    {
     "name": "stdout",
     "output_type": "stream",
     "text": [
      "Train Dataframe first 5 records: \n"
     ]
    },
    {
     "data": {
      "text/html": [
       "<div>\n",
       "<table border=\"1\" class=\"dataframe\">\n",
       "  <thead>\n",
       "    <tr style=\"text-align: right;\">\n",
       "      <th></th>\n",
       "      <th>id</th>\n",
       "      <th>qid1</th>\n",
       "      <th>qid2</th>\n",
       "      <th>question1</th>\n",
       "      <th>question2</th>\n",
       "      <th>is_duplicate</th>\n",
       "    </tr>\n",
       "  </thead>\n",
       "  <tbody>\n",
       "    <tr>\n",
       "      <th>0</th>\n",
       "      <td>0</td>\n",
       "      <td>1</td>\n",
       "      <td>2</td>\n",
       "      <td>What is the step by step guide to invest in sh...</td>\n",
       "      <td>What is the step by step guide to invest in sh...</td>\n",
       "      <td>0</td>\n",
       "    </tr>\n",
       "    <tr>\n",
       "      <th>1</th>\n",
       "      <td>1</td>\n",
       "      <td>3</td>\n",
       "      <td>4</td>\n",
       "      <td>What is the story of Kohinoor (Koh-i-Noor) Dia...</td>\n",
       "      <td>What would happen if the Indian government sto...</td>\n",
       "      <td>0</td>\n",
       "    </tr>\n",
       "    <tr>\n",
       "      <th>2</th>\n",
       "      <td>2</td>\n",
       "      <td>5</td>\n",
       "      <td>6</td>\n",
       "      <td>How can I increase the speed of my internet co...</td>\n",
       "      <td>How can Internet speed be increased by hacking...</td>\n",
       "      <td>0</td>\n",
       "    </tr>\n",
       "    <tr>\n",
       "      <th>3</th>\n",
       "      <td>3</td>\n",
       "      <td>7</td>\n",
       "      <td>8</td>\n",
       "      <td>Why am I mentally very lonely? How can I solve...</td>\n",
       "      <td>Find the remainder when [math]23^{24}[/math] i...</td>\n",
       "      <td>0</td>\n",
       "    </tr>\n",
       "    <tr>\n",
       "      <th>4</th>\n",
       "      <td>4</td>\n",
       "      <td>9</td>\n",
       "      <td>10</td>\n",
       "      <td>Which one dissolve in water quikly sugar, salt...</td>\n",
       "      <td>Which fish would survive in salt water?</td>\n",
       "      <td>0</td>\n",
       "    </tr>\n",
       "  </tbody>\n",
       "</table>\n",
       "</div>"
      ],
      "text/plain": [
       "   id  qid1  qid2                                          question1  \\\n",
       "0   0     1     2  What is the step by step guide to invest in sh...   \n",
       "1   1     3     4  What is the story of Kohinoor (Koh-i-Noor) Dia...   \n",
       "2   2     5     6  How can I increase the speed of my internet co...   \n",
       "3   3     7     8  Why am I mentally very lonely? How can I solve...   \n",
       "4   4     9    10  Which one dissolve in water quikly sugar, salt...   \n",
       "\n",
       "                                           question2  is_duplicate  \n",
       "0  What is the step by step guide to invest in sh...             0  \n",
       "1  What would happen if the Indian government sto...             0  \n",
       "2  How can Internet speed be increased by hacking...             0  \n",
       "3  Find the remainder when [math]23^{24}[/math] i...             0  \n",
       "4            Which fish would survive in salt water?             0  "
      ]
     },
     "execution_count": 36,
     "metadata": {},
     "output_type": "execute_result"
    }
   ],
   "source": [
    "print(\"Train Dataframe first 5 records: \")\n",
    "train_df.head()"
   ]
  },
  {
   "cell_type": "code",
   "execution_count": 37,
   "metadata": {
    "collapsed": false,
    "deletable": true,
    "editable": true
   },
   "outputs": [
    {
     "name": "stdout",
     "output_type": "stream",
     "text": [
      "Test Dataframe first 5 records: \n"
     ]
    },
    {
     "data": {
      "text/html": [
       "<div>\n",
       "<table border=\"1\" class=\"dataframe\">\n",
       "  <thead>\n",
       "    <tr style=\"text-align: right;\">\n",
       "      <th></th>\n",
       "      <th>test_id</th>\n",
       "      <th>question1</th>\n",
       "      <th>question2</th>\n",
       "    </tr>\n",
       "  </thead>\n",
       "  <tbody>\n",
       "    <tr>\n",
       "      <th>0</th>\n",
       "      <td>0</td>\n",
       "      <td>How does the Surface Pro himself 4 compare wit...</td>\n",
       "      <td>Why did Microsoft choose core m3 and not core ...</td>\n",
       "    </tr>\n",
       "    <tr>\n",
       "      <th>1</th>\n",
       "      <td>1</td>\n",
       "      <td>Should I have a hair transplant at age 24? How...</td>\n",
       "      <td>How much cost does hair transplant require?</td>\n",
       "    </tr>\n",
       "    <tr>\n",
       "      <th>2</th>\n",
       "      <td>2</td>\n",
       "      <td>What but is the best way to send money from Ch...</td>\n",
       "      <td>What you send money to China?</td>\n",
       "    </tr>\n",
       "    <tr>\n",
       "      <th>3</th>\n",
       "      <td>3</td>\n",
       "      <td>Which food not emulsifiers?</td>\n",
       "      <td>What foods fibre?</td>\n",
       "    </tr>\n",
       "    <tr>\n",
       "      <th>4</th>\n",
       "      <td>4</td>\n",
       "      <td>How \"aberystwyth\" start reading?</td>\n",
       "      <td>How their can I start reading?</td>\n",
       "    </tr>\n",
       "  </tbody>\n",
       "</table>\n",
       "</div>"
      ],
      "text/plain": [
       "   test_id                                          question1  \\\n",
       "0        0  How does the Surface Pro himself 4 compare wit...   \n",
       "1        1  Should I have a hair transplant at age 24? How...   \n",
       "2        2  What but is the best way to send money from Ch...   \n",
       "3        3                        Which food not emulsifiers?   \n",
       "4        4                   How \"aberystwyth\" start reading?   \n",
       "\n",
       "                                           question2  \n",
       "0  Why did Microsoft choose core m3 and not core ...  \n",
       "1        How much cost does hair transplant require?  \n",
       "2                      What you send money to China?  \n",
       "3                                  What foods fibre?  \n",
       "4                     How their can I start reading?  "
      ]
     },
     "execution_count": 37,
     "metadata": {},
     "output_type": "execute_result"
    }
   ],
   "source": [
    "print(\"Test Dataframe first 5 records: \")\n",
    "test_df.head()"
   ]
  },
  {
   "cell_type": "code",
   "execution_count": 4,
   "metadata": {
    "collapsed": false,
    "deletable": true,
    "editable": true
   },
   "outputs": [],
   "source": [
    "# Add the string 'empty' to empty strings\n",
    "train_df = train_df.fillna('empty')\n",
    "test_df = test_df.fillna('empty')"
   ]
  },
  {
   "cell_type": "markdown",
   "metadata": {
    "deletable": true,
    "editable": true
   },
   "source": [
    "## Data Analysis\n",
    "### Initial Review of Dataset\n",
    "The following code displays the number and percentage of duplicate records in the training dataset."
   ]
  },
  {
   "cell_type": "code",
   "execution_count": 38,
   "metadata": {
    "collapsed": false,
    "deletable": true,
    "editable": true
   },
   "outputs": [
    {
     "name": "stdout",
     "output_type": "stream",
     "text": [
      "Number of Duplicate Records in Training Dataset: \n",
      "0    255025\n",
      "1    149263\n",
      "Name: is_duplicate, dtype: int64\n",
      "\n",
      "Percentage of Duplicate Records in Training Dataset: \n",
      "0    0.6308\n",
      "1    0.3692\n",
      "Name: is_duplicate, dtype: float64\n"
     ]
    }
   ],
   "source": [
    "is_dup = train_df['is_duplicate'].value_counts()\n",
    "\n",
    "print(\"Number of Duplicate Records in Training Dataset: \")\n",
    "print(is_dup)\n",
    "\n",
    "print(\"\\nPercentage of Duplicate Records in Training Dataset: \")\n",
    "print(is_dup / is_dup.sum())"
   ]
  },
  {
   "cell_type": "markdown",
   "metadata": {
    "deletable": true,
    "editable": true
   },
   "source": [
    "### Identifying Duplicate Questions"
   ]
  },
  {
   "cell_type": "code",
   "execution_count": 39,
   "metadata": {
    "collapsed": false,
    "deletable": true,
    "editable": true
   },
   "outputs": [
    {
     "name": "stdout",
     "output_type": "stream",
     "text": [
      "Total number of question pairs in the training set: 404288\n",
      "Duplicate pairs: 36.92%\n",
      "Total number of unique questions (across both qid1 and qid2) in the training data: 537931\n",
      "Number of Questions that Appear Multiple Times: 111778\n",
      "\n"
     ]
    },
    {
     "data": {
      "image/png": "[encoded data removed]",
      "text/plain": [
       "<matplotlib.figure.Figure at 0x10c3d6c10>"
      ]
     },
     "metadata": {},
     "output_type": "display_data"
    }
   ],
   "source": [
    "###\n",
    "# Note: The following notebook was referenced when preparing the approach to data analysis activities below:\n",
    "# https://www.kaggle.com/anokas/data-analysis-xgboost-starter-0-35460-lb\n",
    "###\n",
    "\n",
    "print(\"Total number of question pairs in the training set: {}\".format(len(train_df)))\n",
    "print('Duplicate pairs: {}%'.format(round(train_df['is_duplicate'].mean()*100, 2)))\n",
    "qids = pd.Series(train_df['qid1'].tolist() + train_df['qid2'].tolist())\n",
    "#print qids\n",
    "print('Total number of unique questions (across both qid1 and qid2) in the training data: {}'.format(len(\n",
    "    np.unique(qids))))\n",
    "print('Number of Questions that Appear Multiple Times: {}'.format(np.sum(qids.value_counts() > 1)))\n",
    "\n",
    "#print(qids.value_counts())\n",
    "\n",
    "plt.figure(figsize=(12, 5))\n",
    "plt.hist(qids.value_counts(), bins=50)\n",
    "plt.yscale('log', nonposy='clip')\n",
    "plt.title('Log-Histogram of Question Appearance Counts')\n",
    "plt.xlabel('Number of Occurences of Question')\n",
    "plt.ylabel('Number of Questions')\n",
    "print()"
   ]
  },
  {
   "cell_type": "markdown",
   "metadata": {
    "deletable": true,
    "editable": true
   },
   "source": [
    "**The vast majority of questions either appear once or a few times.** It's possible Quora could have provided every possible unique combination of question (each question compared to every other question) but that would have generated a huge amount of data, and it would be very clear in the majority of cases that questions were not duplicates.\n",
    "\n",
    "**There is a very small number of questions appearing up to around ~50 times, and three questions that appear over 100 times (111, 120, and 157 times each).** These three questions appear to be outliers."
   ]
  },
  {
   "cell_type": "markdown",
   "metadata": {
    "collapsed": true,
    "deletable": true,
    "editable": true
   },
   "source": [
    "## Feature Analysis"
   ]
  },
  {
   "cell_type": "markdown",
   "metadata": {
    "deletable": true,
    "editable": true
   },
   "source": [
    "First, we'll clean up our training questions.\n",
    "#### Clean Up Text"
   ]
  },
  {
   "cell_type": "code",
   "execution_count": 40,
   "metadata": {
    "collapsed": false,
    "deletable": true,
    "editable": true
   },
   "outputs": [
    {
     "data": {
      "text/plain": [
       "\"train_q_split = train_q_clean.str.split()\\ntrain_q_nostop = train_q_split.apply(lambda x: [item for item in x if item not in stops])\\ntrain_q_nostop = train_q_nostop.str.join(' ')\""
      ]
     },
     "execution_count": 40,
     "metadata": {},
     "output_type": "execute_result"
    }
   ],
   "source": [
    "stops = ['the','a','an','and','but','if','or','because','as','what','which','this','that','these','those','then',\n",
    "              'just','so','than','such','both','through','about','for','is','of','while','during','to','What','Which',\n",
    "              'Is','If','While','This']\n",
    "\n",
    "\"\"\"train_q_split = train_q_clean.str.split()\n",
    "train_q_nostop = train_q_split.apply(lambda x: [item for item in x if item not in stops])\n",
    "train_q_nostop = train_q_nostop.str.join(' ')\"\"\""
   ]
  },
  {
   "cell_type": "code",
   "execution_count": 60,
   "metadata": {
    "collapsed": false,
    "deletable": true,
    "editable": true
   },
   "outputs": [],
   "source": [
    "from string import punctuation\n",
    "import re\n",
    "\n",
    "def text_to_wordlist(text, remove_stop_words=False):\n",
    "    # Clean the text, with the option to remove stop_words and to stem words.\n",
    "\n",
    "    # Clean the text\n",
    "    #text = re.sub(r\"[^A-Za-z0-9^,!.\\/'+-=]\", \" \", text)\n",
    "    text = re.sub(r\"what's\", \"\", text, flags=re.IGNORECASE)\n",
    "    text = re.sub(r\"\\'s\", \" \", text)\n",
    "    text = re.sub(r\"\\'ve\", \" have \", text)\n",
    "    text = re.sub(r\"can't\", \"cannot \", text)\n",
    "    text = re.sub(r\"n't\", \" not \", text)\n",
    "    text = re.sub(r\"I'm\", \"I am\", text)\n",
    "    text = re.sub(r\" m \", \" am \", text)\n",
    "    text = re.sub(r\"\\'re\", \" are \", text)\n",
    "    text = re.sub(r\"\\'d\", \" would \", text)\n",
    "    text = re.sub(r\"\\'ll\", \" will \", text)\n",
    "    text = re.sub(r\"60k\", \" 60000 \", text)\n",
    "    text = re.sub(r\" e g \", \" eg \", text)\n",
    "    text = re.sub(r\" b g \", \" bg \", text)\n",
    "    text = re.sub(r\"\\0s\", \"0\", text)\n",
    "    text = re.sub(r\" 9 11 \", \"911\", text)\n",
    "    text = re.sub(r\"e-mail\", \"email\", text)\n",
    "    text = re.sub(r\"\\s{2,}\", \" \", text)\n",
    "    text = re.sub(r\"quikly\", \"quickly\", text)\n",
    "    text = re.sub(r\" usa \", \" America \", text)\n",
    "    text = re.sub(r\" USA \", \" America \", text)\n",
    "    text = re.sub(r\" u s \", \" America \", text)\n",
    "    text = re.sub(r\" uk \", \" England \", text)\n",
    "    text = re.sub(r\" UK \", \" England \", text)\n",
    "    text = re.sub(r\"india\", \"India\", text)\n",
    "    text = re.sub(r\"switzerland\", \"Switzerland\", text)\n",
    "    text = re.sub(r\"china\", \"China\", text)\n",
    "    text = re.sub(r\"chinese\", \"Chinese\", text) \n",
    "    text = re.sub(r\"imrovement\", \"improvement\", text)\n",
    "    text = re.sub(r\"intially\", \"initially\", text)\n",
    "    text = re.sub(r\"quora\", \"Quora\", text)\n",
    "    text = re.sub(r\" dms \", \"direct messages \", text)  \n",
    "    text = re.sub(r\"demonitization\", \"demonetization\", text) \n",
    "    text = re.sub(r\"actived\", \"active\", text)\n",
    "    text = re.sub(r\"kms\", \" kilometers \", text)\n",
    "    text = re.sub(r\"KMs\", \" kilometers \", text)\n",
    "    text = re.sub(r\" cs \", \" computer science \", text) \n",
    "    text = re.sub(r\" upvotes \", \" up votes \", text)\n",
    "    text = re.sub(r\" iPhone \", \" phone \", text)\n",
    "    text = re.sub(r\"\\0rs \", \" rs \", text) \n",
    "    text = re.sub(r\"calender\", \"calendar\", text)\n",
    "    text = re.sub(r\"ios\", \"operating system\", text)\n",
    "    text = re.sub(r\"gps\", \"GPS\", text)\n",
    "    text = re.sub(r\"gst\", \"GST\", text)\n",
    "    text = re.sub(r\"programing\", \"programming\", text)\n",
    "    text = re.sub(r\"bestfriend\", \"best friend\", text)\n",
    "    text = re.sub(r\"dna\", \"DNA\", text)\n",
    "    text = re.sub(r\"III\", \"3\", text) \n",
    "    text = re.sub(r\"the US\", \"America\", text)\n",
    "    text = re.sub(r\"Astrology\", \"astrology\", text)\n",
    "    text = re.sub(r\"Method\", \"method\", text)\n",
    "    text = re.sub(r\"Find\", \"find\", text) \n",
    "    text = re.sub(r\"banglore\", \"Banglore\", text)\n",
    "    text = re.sub(r\" J K \", \" JK \", text)\n",
    "    \n",
    "    # Optionally, remove stop words\n",
    "    if remove_stop_words:\n",
    "        text = text.split()\n",
    "        text = [w for w in text if not w in stops]\n",
    "        text = \" \".join(text)\n",
    "        \n",
    "    return text"
   ]
  },
  {
   "cell_type": "code",
   "execution_count": 61,
   "metadata": {
    "collapsed": true,
    "deletable": true,
    "editable": true
   },
   "outputs": [],
   "source": [
    "def process_questions(question_list, questions, question_list_name, dataframe):\n",
    "    '''transform questions and display progress'''\n",
    "    for question in questions:\n",
    "        question_list.append(text_to_wordlist(question))\n",
    "        if len(question_list) % 100000 == 0:\n",
    "            progress = len(question_list)/len(dataframe) * 100\n",
    "            print(\"{} is {}% complete.\".format(question_list_name, round(progress, 1)))"
   ]
  },
  {
   "cell_type": "code",
   "execution_count": 65,
   "metadata": {
    "collapsed": false,
    "deletable": true,
    "editable": true
   },
   "outputs": [
    {
     "name": "stdout",
     "output_type": "stream",
     "text": [
      "train_question1 is 24.7% complete.\n",
      "train_question1 is 49.5% complete.\n",
      "train_question1 is 74.2% complete.\n",
      "train_question1 is 98.9% complete.\n"
     ]
    }
   ],
   "source": [
    "train_question1 = []\n",
    "process_questions(train_question1, train_df.question1, 'train_question1', train_df)"
   ]
  },
  {
   "cell_type": "code",
   "execution_count": 64,
   "metadata": {
    "collapsed": false,
    "deletable": true,
    "editable": true
   },
   "outputs": [
    {
     "name": "stdout",
     "output_type": "stream",
     "text": [
      "train_question2 is 24.7% complete.\n",
      "train_question2 is 49.5% complete.\n",
      "train_question2 is 74.2% complete.\n",
      "train_question2 is 98.9% complete.\n"
     ]
    }
   ],
   "source": [
    "train_question2 = []\n",
    "process_questions(train_question2, train_df.question2.astype(str), 'train_question2', train_df)"
   ]
  },
  {
   "cell_type": "code",
   "execution_count": 66,
   "metadata": {
    "collapsed": false,
    "deletable": true,
    "editable": true
   },
   "outputs": [
    {
     "name": "stdout",
     "output_type": "stream",
     "text": [
      "train_question1 is 4.3% complete.\n",
      "train_question1 is 8.5% complete.\n",
      "train_question1 is 12.8% complete.\n",
      "train_question1 is 17.1% complete.\n",
      "train_question1 is 21.3% complete.\n",
      "train_question1 is 25.6% complete.\n",
      "train_question1 is 29.8% complete.\n",
      "train_question1 is 34.1% complete.\n",
      "train_question1 is 38.4% complete.\n",
      "train_question1 is 42.6% complete.\n",
      "train_question1 is 46.9% complete.\n",
      "train_question1 is 51.2% complete.\n",
      "train_question1 is 55.4% complete.\n",
      "train_question1 is 59.7% complete.\n",
      "train_question1 is 63.9% complete.\n",
      "train_question1 is 68.2% complete.\n",
      "train_question1 is 72.5% complete.\n",
      "train_question1 is 76.7% complete.\n",
      "train_question1 is 81.0% complete.\n",
      "train_question1 is 85.3% complete.\n",
      "train_question1 is 89.5% complete.\n",
      "train_question1 is 93.8% complete.\n",
      "train_question1 is 98.0% complete.\n",
      "train_question2 is 4.3% complete.\n",
      "train_question2 is 8.5% complete.\n",
      "train_question2 is 12.8% complete.\n",
      "train_question2 is 17.1% complete.\n",
      "train_question2 is 21.3% complete.\n",
      "train_question2 is 25.6% complete.\n",
      "train_question2 is 29.8% complete.\n",
      "train_question2 is 34.1% complete.\n",
      "train_question2 is 38.4% complete.\n",
      "train_question2 is 42.6% complete.\n",
      "train_question2 is 46.9% complete.\n",
      "train_question2 is 51.2% complete.\n",
      "train_question2 is 55.4% complete.\n",
      "train_question2 is 59.7% complete.\n",
      "train_question2 is 63.9% complete.\n",
      "train_question2 is 68.2% complete.\n",
      "train_question2 is 72.5% complete.\n",
      "train_question2 is 76.7% complete.\n",
      "train_question2 is 81.0% complete.\n",
      "train_question2 is 85.3% complete.\n",
      "train_question2 is 89.5% complete.\n",
      "train_question2 is 93.8% complete.\n",
      "train_question2 is 98.0% complete.\n"
     ]
    }
   ],
   "source": [
    "test_question1 = []\n",
    "process_questions(test_question1, test_df.question1.astype(str), 'train_question1', test_df)\n",
    "test_question2 = []\n",
    "process_questions(test_question2, test_df.question2.astype(str), 'train_question2', test_df)"
   ]
  },
  {
   "cell_type": "code",
   "execution_count": 92,
   "metadata": {
    "collapsed": false,
    "deletable": true,
    "editable": true
   },
   "outputs": [
    {
     "name": "stdout",
     "output_type": "stream",
     "text": [
      "What is the step by step guide to invest in share market in India?\n",
      "What is the step by step guide to invest in share market?\n",
      "What is the step by step guide to invest in share market in India?\n",
      "What is the step by step guide to invest in share market?\n",
      "\n",
      "What is the story of Kohinoor (Koh-i-Noor) Diamond?\n",
      "What would happen if the Indian government stole the Kohinoor (Koh-i-Noor) diamond back?\n",
      "What is the story of Kohinoor (Koh-i-Noor) Diamond?\n",
      "What would happen if the Indian government stole the Kohinoor (Koh-i-Noor) diamond back?\n",
      "\n"
     ]
    }
   ],
   "source": [
    "for i in range(a,a+2):\n",
    "    print(train_question1[i])\n",
    "    print(train_question2[i])\n",
    "    print(train_df['question1'][i])\n",
    "    print(train_df['question2'][i])\n",
    "    print()"
   ]
  },
  {
   "cell_type": "code",
   "execution_count": 68,
   "metadata": {
    "collapsed": true,
    "deletable": true,
    "editable": true
   },
   "outputs": [],
   "source": [
    "train_df['question1'] = train_question1\n",
    "train_df['question2'] = train_question2\n",
    "test_df['question1'] = test_question1\n",
    "test_df['question2'] = test_question2"
   ]
  },
  {
   "cell_type": "markdown",
   "metadata": {
    "deletable": true,
    "editable": true
   },
   "source": [
    "### Character & Word Counts\n",
    "Reviewing the character and word counts within questions across both the Training and Test datasets."
   ]
  },
  {
   "cell_type": "code",
   "execution_count": 41,
   "metadata": {
    "collapsed": false,
    "deletable": true,
    "editable": true
   },
   "outputs": [],
   "source": [
    "train_q = pd.Series(train_df['question1'].tolist() + train_df['question2'].tolist()).astype(str)\n",
    "test_q = pd.Series(test_df['question1'].tolist() + test_df['question2'].tolist()).astype(str)\n",
    "\n",
    "char_len_train = train_q.apply(len)\n",
    "word_len_train = train_q.str.split().apply(len)\n",
    "#print(char_len_train.head())\n",
    "#print(word_len_train.head())\n",
    "\n",
    "char_len_test = test_q.apply(len)\n",
    "word_len_test = test_q.str.split().apply(len)\n",
    "#print(char_len_test.head())\n",
    "#print(word_len_test.head())\n"
   ]
  },
  {
   "cell_type": "code",
   "execution_count": 70,
   "metadata": {
    "collapsed": false,
    "deletable": true,
    "editable": true
   },
   "outputs": [
    {
     "data": {
      "text/plain": [
       "<matplotlib.text.Text at 0x10e401a10>"
      ]
     },
     "execution_count": 70,
     "metadata": {},
     "output_type": "execute_result"
    },
    {
     "data": {
      "image/png": "[encoded data removed]",
      "text/plain": [
       "<matplotlib.figure.Figure at 0x247321b10>"
      ]
     },
     "metadata": {},
     "output_type": "display_data"
    },
    {
     "data": {
      "image/png": "[encoded data removed]",
      "text/plain": [
       "<matplotlib.figure.Figure at 0x108fdcd10>"
      ]
     },
     "metadata": {},
     "output_type": "display_data"
    }
   ],
   "source": [
    "plt.figure(figsize=(15, 5))\n",
    "plt.hist(char_len_train, bins=200, range=[0, 200], color=pal[2], normed=True, alpha=0.5, label='train')\n",
    "plt.hist(char_len_test, bins=200, range=[0, 200], color=pal[1], normed=True, alpha=0.5, label='test')\n",
    "plt.title('Normalised Histogram of Character Count in Questions', fontsize=15)\n",
    "plt.legend()\n",
    "plt.xlabel('Number of Characters', fontsize=15)\n",
    "plt.ylabel('Probability', fontsize=15)\n",
    "\n",
    "plt.figure(figsize=(15, 5))\n",
    "plt.hist(word_len_train, bins=50, range=[0, 50], color=pal[2], normed=True, alpha=0.5, label='train')\n",
    "plt.hist(word_len_test, bins=50, range=[0, 50], color=pal[1], normed=True, alpha=0.5, label='test')\n",
    "plt.title('Normalised Histogram of Word Count in Questions', fontsize=15)\n",
    "plt.legend()\n",
    "plt.xlabel('Number of Words', fontsize=15)\n",
    "plt.ylabel('Probability', fontsize=15)\n",
    "\n",
    "#print(\"Character Count Training Set Analysis\")\n",
    "#print(char_len_train.describe())\n",
    "\n",
    "#print(\"\\nCharacter Count Testing Set Analysis\")\n",
    "#print(char_len_test.describe())\n",
    "\n",
    "#print(\"\\nWord Count Training Set Analysis\")\n",
    "#print(word_len_train.describe())\n",
    "\n",
    "#print(\"\\nWord Count Testing Set Analysis\")\n",
    "#print(word_len_test.describe())\n",
    "\n",
    "#print('mean-train {:.2f} std-train {:.2f} mean-test {:.2f} std-test {:.2f} max-train {:.2f} max-test {:.2f}'.format(dist_train.mean(), \n",
    "#                          dist_train.std(), dist_test.mean(), dist_test.std(), dist_train.max(), dist_test.max()))"
   ]
  },
  {
   "cell_type": "markdown",
   "metadata": {
    "deletable": true,
    "editable": true
   },
   "source": [
    "### Word Match Sharing\n",
    "This Stop Words section was adapted from a benchmark model provided in one of the example Kernels provided. We've removed stopwords from the NLTK corpus and compared the remaining words in common from Question 1 with Question 2 and how this relates to whether the questions are duplicate or not."
   ]
  },
  {
   "cell_type": "code",
   "execution_count": 42,
   "metadata": {
    "collapsed": false,
    "deletable": true,
    "editable": true
   },
   "outputs": [
    {
     "data": {
      "text/plain": [
       "<matplotlib.text.Text at 0x1117de490>"
      ]
     },
     "execution_count": 42,
     "metadata": {},
     "output_type": "execute_result"
    },
    {
     "data": {
      "image/png": "[encoded data removed]",
      "text/plain": [
       "<matplotlib.figure.Figure at 0x13dfae490>"
      ]
     },
     "metadata": {},
     "output_type": "display_data"
    }
   ],
   "source": [
    "#from nltk.corpus import stopwords\n",
    "\n",
    "#stops = set(stopwords.words(\"english\"))\n",
    "\n",
    "def word_match_share(row):\n",
    "    q1words = {}\n",
    "    q2words = {}\n",
    "    for word in str(row['question1']).lower().split():\n",
    "        if word not in stops:\n",
    "            q1words[word] = 1\n",
    "    for word in str(row['question2']).lower().split():\n",
    "        if word not in stops:\n",
    "            q2words[word] = 1\n",
    "    if len(q1words) == 0 or len(q2words) == 0:\n",
    "        # The computer-generated chaff includes a few questions that are nothing but stopwords\n",
    "        return 0\n",
    "    shared_words_in_q1 = [w for w in q1words.keys() if w in q2words]\n",
    "    shared_words_in_q2 = [w for w in q2words.keys() if w in q1words]\n",
    "    R = float((len(shared_words_in_q1) + len(shared_words_in_q2)))/float((len(q1words) + len(q2words)))\n",
    "    return R\n",
    "\n",
    "plt.figure(figsize=(15, 5))\n",
    "train_word_match = train_df.apply(word_match_share, axis=1, raw=True)\n",
    "plt.hist(train_word_match[train_df['is_duplicate'] == 0], bins=20, normed=True, label='Not Duplicate')\n",
    "plt.hist(train_word_match[train_df['is_duplicate'] == 1], bins=20, normed=True, alpha=0.7, label='Duplicate')\n",
    "plt.legend()\n",
    "plt.title('Label distribution over word_match_share', fontsize=15)\n",
    "plt.xlabel('word_match_share', fontsize=15)"
   ]
  },
  {
   "cell_type": "markdown",
   "metadata": {
    "deletable": true,
    "editable": true
   },
   "source": [
    "From this Distribution chart we can see that the remaining shared words does have a certain amount of predictive power in terms of whether two questions are duplicate or not. In particular, those question pairs with a score of less than .2 in this word share distribution are all Not Duplicates.  However it's not so great at picking out the Duplicates; for those Question Pairs above .4 we see that there are approximately twice as many Duplicate question pairs as compared to Not Duplicates yet we still see some substantial overlap."
   ]
  },
  {
   "cell_type": "markdown",
   "metadata": {
    "deletable": true,
    "editable": true
   },
   "source": [
    "*Sometimes, some extremely common words which would appear to be of little value in helping select documents matching a user need are excluded from the vocabulary entirely. These words are called stop words . The general strategy for determining a stop list is to sort the terms by collection frequency (the total number of times each term appears in the document collection), and then to take the most frequent terms, often hand-filtered for their semantic content relative to the domain of the documents being indexed, as a stop list , the members of which are then discarded during indexing.*"
   ]
  },
  {
   "cell_type": "markdown",
   "metadata": {
    "deletable": true,
    "editable": true
   },
   "source": [
    "## Label Distribution over Word Count / Char Count"
   ]
  },
  {
   "cell_type": "code",
   "execution_count": 72,
   "metadata": {
    "collapsed": false,
    "deletable": true,
    "editable": true
   },
   "outputs": [],
   "source": [
    "train_df['q1len'] = train_df['question1'].str.len()\n",
    "train_df['q2len'] = train_df['question2'].str.len()\n",
    "train_df['q1_n_words'] = train_df['question1'].astype(str).apply(lambda row: len(row.split(\" \")))\n",
    "train_df['q2_n_words'] = train_df['question2'].astype(str).apply(lambda row: len(row.split(\" \")))\n",
    "\n",
    "train_df['char_delta'] = ((train_df['q1len']-train_df['q2len'])**2)\n",
    "train_df['char_delta'] = (train_df['char_delta'] - np.mean(train_df['char_delta']))/np.std(train_df['char_delta'])\n",
    "\n",
    "train_df['word_delta'] = ((train_df['q1_n_words']-train_df['q2_n_words'])**2)\n",
    "train_df['word_delta'] = (train_df['word_delta'] - np.mean(train_df['word_delta']))/np.std(train_df['word_delta'])"
   ]
  },
  {
   "cell_type": "code",
   "execution_count": 103,
   "metadata": {
    "collapsed": false,
    "deletable": true,
    "editable": true
   },
   "outputs": [
    {
     "data": {
      "text/plain": [
       "<matplotlib.text.Text at 0x133275810>"
      ]
     },
     "execution_count": 103,
     "metadata": {},
     "output_type": "execute_result"
    },
    {
     "data": {
      "image/png": "[encoded data removed]",
      "text/plain": [
       "<matplotlib.figure.Figure at 0x13326d350>"
      ]
     },
     "metadata": {},
     "output_type": "display_data"
    }
   ],
   "source": [
    "plt.figure(figsize=(15, 5))\n",
    "plt.hist(train_df[train_df['is_duplicate']== 0]['word_delta'], bins=50, range=[-.25, 1], color=pal[2], normed=True, alpha=0.5, label='not duplicate')\n",
    "plt.hist(train_df[train_df['is_duplicate']== 1]['word_delta'], bins=50, range=[-.25, 1], color=pal[1], normed=True, alpha=0.5, label='duplicate')\n",
    "plt.title('Label distribution over Character_Delta', fontsize=15)\n",
    "plt.legend()\n",
    "plt.xlabel('Delta Squared', fontsize=15)\n",
    "plt.ylabel('Records', fontsize=15)"
   ]
  },
  {
   "cell_type": "code",
   "execution_count": 74,
   "metadata": {
    "collapsed": false,
    "deletable": true,
    "editable": true
   },
   "outputs": [
    {
     "name": "stdout",
     "output_type": "stream",
     "text": [
      "word_delta AUC: 0.390389887722\n",
      "char_delta AUC: 0.381625732045\n"
     ]
    }
   ],
   "source": [
    "from sklearn.metrics import roc_auc_score\n",
    "print('word_delta AUC:', roc_auc_score(train_df['is_duplicate'], train_df['word_delta']))\n",
    "print('char_delta AUC:', roc_auc_score(train_df['is_duplicate'], train_df['char_delta']))"
   ]
  },
  {
   "cell_type": "markdown",
   "metadata": {
    "deletable": true,
    "editable": true
   },
   "source": [
    "We can see that the duplicate questions tend to have a smaller delta of characters and words comparing to the questions which are not duplicate. I don't know that we necessarily need to use both of these features; we could consider combining them and taking an average to incorporate both bits of information, and additionally we could consider removing stop words and punctuation to see if that provides an added benefit."
   ]
  },
  {
   "cell_type": "markdown",
   "metadata": {
    "deletable": true,
    "editable": true
   },
   "source": [
    "**Now I'm going to create the Word and Char Delta Characters for the Test Set.**"
   ]
  },
  {
   "cell_type": "code",
   "execution_count": 43,
   "metadata": {
    "collapsed": false,
    "deletable": true,
    "editable": true
   },
   "outputs": [
    {
     "data": {
      "text/html": [
       "<div>\n",
       "<table border=\"1\" class=\"dataframe\">\n",
       "  <thead>\n",
       "    <tr style=\"text-align: right;\">\n",
       "      <th></th>\n",
       "      <th>test_id</th>\n",
       "      <th>question1</th>\n",
       "      <th>question2</th>\n",
       "      <th>q1len</th>\n",
       "      <th>q2len</th>\n",
       "      <th>q1_n_words</th>\n",
       "      <th>q2_n_words</th>\n",
       "      <th>char_delta</th>\n",
       "      <th>word_delta</th>\n",
       "    </tr>\n",
       "  </thead>\n",
       "  <tbody>\n",
       "    <tr>\n",
       "      <th>0</th>\n",
       "      <td>0</td>\n",
       "      <td>How does the Surface Pro himself 4 compare wit...</td>\n",
       "      <td>Why did Microsoft choose core m3 and not core ...</td>\n",
       "      <td>57</td>\n",
       "      <td>68</td>\n",
       "      <td>11</td>\n",
       "      <td>14</td>\n",
       "      <td>-0.268397</td>\n",
       "      <td>-0.211408</td>\n",
       "    </tr>\n",
       "    <tr>\n",
       "      <th>1</th>\n",
       "      <td>1</td>\n",
       "      <td>Should I have a hair transplant at age 24? How...</td>\n",
       "      <td>How much cost does hair transplant require?</td>\n",
       "      <td>66</td>\n",
       "      <td>43</td>\n",
       "      <td>14</td>\n",
       "      <td>7</td>\n",
       "      <td>-0.169205</td>\n",
       "      <td>0.048799</td>\n",
       "    </tr>\n",
       "    <tr>\n",
       "      <th>2</th>\n",
       "      <td>2</td>\n",
       "      <td>What but is the best way to send money from Ch...</td>\n",
       "      <td>What you send money to China?</td>\n",
       "      <td>60</td>\n",
       "      <td>29</td>\n",
       "      <td>14</td>\n",
       "      <td>6</td>\n",
       "      <td>-0.064179</td>\n",
       "      <td>0.146377</td>\n",
       "    </tr>\n",
       "    <tr>\n",
       "      <th>3</th>\n",
       "      <td>3</td>\n",
       "      <td>Which food not emulsifiers?</td>\n",
       "      <td>What foods fibre?</td>\n",
       "      <td>27</td>\n",
       "      <td>17</td>\n",
       "      <td>4</td>\n",
       "      <td>3</td>\n",
       "      <td>-0.273502</td>\n",
       "      <td>-0.263449</td>\n",
       "    </tr>\n",
       "    <tr>\n",
       "      <th>4</th>\n",
       "      <td>4</td>\n",
       "      <td>How \"aberystwyth\" start reading?</td>\n",
       "      <td>How their can I start reading?</td>\n",
       "      <td>32</td>\n",
       "      <td>30</td>\n",
       "      <td>4</td>\n",
       "      <td>6</td>\n",
       "      <td>-0.296841</td>\n",
       "      <td>-0.243934</td>\n",
       "    </tr>\n",
       "  </tbody>\n",
       "</table>\n",
       "</div>"
      ],
      "text/plain": [
       "   test_id                                          question1  \\\n",
       "0        0  How does the Surface Pro himself 4 compare wit...   \n",
       "1        1  Should I have a hair transplant at age 24? How...   \n",
       "2        2  What but is the best way to send money from Ch...   \n",
       "3        3                        Which food not emulsifiers?   \n",
       "4        4                   How \"aberystwyth\" start reading?   \n",
       "\n",
       "                                           question2  q1len  q2len  \\\n",
       "0  Why did Microsoft choose core m3 and not core ...     57     68   \n",
       "1        How much cost does hair transplant require?     66     43   \n",
       "2                      What you send money to China?     60     29   \n",
       "3                                  What foods fibre?     27     17   \n",
       "4                     How their can I start reading?     32     30   \n",
       "\n",
       "   q1_n_words  q2_n_words  char_delta  word_delta  \n",
       "0          11          14   -0.268397   -0.211408  \n",
       "1          14           7   -0.169205    0.048799  \n",
       "2          14           6   -0.064179    0.146377  \n",
       "3           4           3   -0.273502   -0.263449  \n",
       "4           4           6   -0.296841   -0.243934  "
      ]
     },
     "execution_count": 43,
     "metadata": {},
     "output_type": "execute_result"
    }
   ],
   "source": [
    "# creating word count variables for our test set\n",
    "test_df['q1len'] = test_df['question1'].str.len()\n",
    "test_df['q2len'] = test_df['question2'].str.len()\n",
    "test_df['q1_n_words'] = test_df['question1'].astype(str).apply(lambda row: len(row.split(\" \")))\n",
    "test_df['q2_n_words'] = test_df['question2'].astype(str).apply(lambda row: len(row.split(\" \")))\n",
    "\n",
    "test_df['char_delta'] = ((test_df['q1len']-test_df['q2len'])**2)\n",
    "test_df['char_delta'] = (test_df['char_delta'] - np.mean(test_df['char_delta']))/np.std(test_df['char_delta'])\n",
    "\n",
    "test_df['word_delta'] = ((test_df['q1_n_words']-test_df['q2_n_words'])**2)\n",
    "test_df['word_delta'] = (test_df['word_delta'] - np.mean(test_df['word_delta']))/np.std(test_df['word_delta'])\n",
    "test_df.head()"
   ]
  },
  {
   "cell_type": "markdown",
   "metadata": {
    "deletable": true,
    "editable": true
   },
   "source": [
    "## Levenshtein Ratio\n",
    "Calculating Levenstein ratio over the two strings..."
   ]
  },
  {
   "cell_type": "code",
   "execution_count": 44,
   "metadata": {
    "collapsed": false,
    "deletable": true,
    "editable": true
   },
   "outputs": [],
   "source": [
    "import Levenshtein as lev\n",
    "\n",
    "t = []\n",
    "for r in zip(train_df['question1'], train_df['question2']):\n",
    "    t.append(lev.ratio(r[0], r[1]))\n",
    "train_df['lev_ratio'] = t\n",
    "\n",
    "t = []\n",
    "for r in zip(test_df['question1'], test_df['question2']):\n",
    "    t.append(lev.ratio(r[0], r[1]))\n",
    "test_df['lev_ratio'] = t\n",
    "\n",
    "del t"
   ]
  },
  {
   "cell_type": "code",
   "execution_count": 106,
   "metadata": {
    "collapsed": false,
    "deletable": true,
    "editable": true
   },
   "outputs": [
    {
     "data": {
      "text/plain": [
       "<matplotlib.text.Text at 0x130cbd3d0>"
      ]
     },
     "execution_count": 106,
     "metadata": {},
     "output_type": "execute_result"
    },
    {
     "data": {
      "image/png": "[encoded data removed]",
      "text/plain": [
       "<matplotlib.figure.Figure at 0x1305b7b90>"
      ]
     },
     "metadata": {},
     "output_type": "display_data"
    }
   ],
   "source": [
    "plt.figure(figsize=(15, 5))\n",
    "plt.hist(train_df[train_df['is_duplicate']== 0]['lev_ratio'], bins=100, range=[0, 1], color=pal[2], normed=True, alpha=0.5, label='not duplicate')\n",
    "plt.hist(train_df[train_df['is_duplicate']== 1]['lev_ratio'], bins=20, range=[0, 1], color=pal[1], normed=True, alpha=0.5, label='duplicate')\n",
    "plt.title('Label distribution vs Levenshtein Ratio', fontsize=15)\n",
    "plt.legend()\n",
    "plt.xlabel('Lev Ratio', fontsize=15)\n",
    "plt.ylabel('Dist', fontsize=15)"
   ]
  },
  {
   "cell_type": "markdown",
   "metadata": {
    "deletable": true,
    "editable": true
   },
   "source": [
    "### TF-IDF\n",
    "Let's test out TF-IDF (Term Frequency - Inverse Document Frequency) which allows us to weigh the terms by how uncommon they are. This puts value on rare words that exist in both questions as opposed to common words. "
   ]
  },
  {
   "cell_type": "markdown",
   "metadata": {
    "deletable": true,
    "editable": true
   },
   "source": [
    "#### Get Term Frequency"
   ]
  },
  {
   "cell_type": "code",
   "execution_count": 45,
   "metadata": {
    "collapsed": false,
    "deletable": true,
    "editable": true
   },
   "outputs": [],
   "source": [
    "from collections import Counter\n",
    "\n",
    "# If a word appears only once, we ignore it completely (likely a typo)\n",
    "# Epsilon defines a smoothing constant, which makes the effect of extremely rare words smaller\n",
    "def get_weight(count, eps=10000, min_count=2):\n",
    "    if count < min_count:\n",
    "        return 0\n",
    "    else:\n",
    "        return 1 / (count + eps)\n",
    "\n",
    "eps = 5000 \n",
    "words = (\" \".join(train_q)).lower().split()\n",
    "counts = Counter(words)\n",
    "weights = {word: get_weight(count) for word, count in counts.items()}"
   ]
  },
  {
   "cell_type": "code",
   "execution_count": 46,
   "metadata": {
    "collapsed": false,
    "deletable": true,
    "editable": true
   },
   "outputs": [
    {
     "name": "stdout",
     "output_type": "stream",
     "text": [
      "Most common words and weights: \n",
      "\n",
      "[('the', 2.5891040146646852e-06), ('what', 3.115623919267953e-06), ('is', 3.5861702928825277e-06), ('how', 4.3664880773043045e-06), ('i', 4.4806280048211555e-06), ('a', 4.540645588989843e-06), ('to', 4.671434644293609e-06), ('in', 4.884625153865692e-06), ('of', 5.920242493132519e-06), ('do', 6.070908207867897e-06)]\n",
      "\n",
      "Least common words and weights: \n"
     ]
    },
    {
     "data": {
      "text/plain": [
       "[('chameleons', 9.998000399920016e-05),\n",
       " ('275', 9.998000399920016e-05),\n",
       " ('276', 9.998000399920016e-05),\n",
       " ('kid:', 9.998000399920016e-05),\n",
       " ('usenet', 9.998000399920016e-05),\n",
       " ('(football', 9.998000399920016e-05),\n",
       " ('dittofish?', 9.998000399920016e-05),\n",
       " ('sneha', 9.998000399920016e-05),\n",
       " ('population)', 9.998000399920016e-05),\n",
       " (',delhi', 9.998000399920016e-05)]"
      ]
     },
     "execution_count": 46,
     "metadata": {},
     "output_type": "execute_result"
    }
   ],
   "source": [
    "print('Most common words and weights: \\n')\n",
    "print(sorted(weights.items(), key=lambda x: x[1] if x[1] > 0 else 9999)[:10])\n",
    "print('\\nLeast common words and weights: ')\n",
    "(sorted(weights.items(), key=lambda x: x[1], reverse=True)[:10])"
   ]
  },
  {
   "cell_type": "code",
   "execution_count": 47,
   "metadata": {
    "collapsed": false,
    "deletable": true,
    "editable": true
   },
   "outputs": [],
   "source": [
    "def tfidf_word_match_share(row):\n",
    "    q1words = {}\n",
    "    q2words = {}\n",
    "    for word in str(row['question1']).lower().split():\n",
    "        if word not in stops:\n",
    "            q1words[word] = 1\n",
    "    for word in str(row['question2']).lower().split():\n",
    "        if word not in stops:\n",
    "            q2words[word] = 1\n",
    "    if len(q1words) == 0 or len(q2words) == 0:\n",
    "        # The computer-generated chaff includes a few questions that are nothing but stopwords\n",
    "        return 0\n",
    "    \n",
    "    shared_weights = [weights.get(w, 0) for w in q1words.keys() if w in q2words] + [weights.get(w, 0) for w in q2words.keys() if w in q1words]\n",
    "    total_weights = [weights.get(w, 0) for w in q1words] + [weights.get(w, 0) for w in q2words]\n",
    "    \n",
    "    R = np.sum(shared_weights) / np.sum(total_weights)\n",
    "    return R"
   ]
  },
  {
   "cell_type": "code",
   "execution_count": 48,
   "metadata": {
    "collapsed": false,
    "deletable": true,
    "editable": true
   },
   "outputs": [
    {
     "name": "stderr",
     "output_type": "stream",
     "text": [
      "/usr/local/lib/python2.7/site-packages/ipykernel/__main__.py:17: RuntimeWarning: invalid value encountered in double_scalars\n"
     ]
    },
    {
     "data": {
      "text/plain": [
       "<matplotlib.text.Text at 0x1345050d0>"
      ]
     },
     "execution_count": 48,
     "metadata": {},
     "output_type": "execute_result"
    },
    {
     "data": {
      "image/png": "[encoded data removed]",
      "text/plain": [
       "<matplotlib.figure.Figure at 0x135a1f050>"
      ]
     },
     "metadata": {},
     "output_type": "display_data"
    }
   ],
   "source": [
    "plt.figure(figsize=(15, 5))\n",
    "tfidf_train_word_match = train_df.apply(tfidf_word_match_share, axis=1, raw=True)\n",
    "plt.hist(tfidf_train_word_match[train_df['is_duplicate'] == 0].fillna(0), bins=20, normed=True, label='Not Duplicate')\n",
    "plt.hist(tfidf_train_word_match[train_df['is_duplicate'] == 1].fillna(0), bins=20, normed=True, alpha=0.7, label='Duplicate')\n",
    "plt.legend()\n",
    "plt.title('Label distribution over tfidf_word_match_share', fontsize=15)\n",
    "plt.xlabel('word_match_share', fontsize=15)"
   ]
  },
  {
   "cell_type": "code",
   "execution_count": 49,
   "metadata": {
    "collapsed": false,
    "deletable": true,
    "editable": true
   },
   "outputs": [
    {
     "name": "stdout",
     "output_type": "stream",
     "text": [
      "Original AUC: 0.765432767329\n",
      "   TFIDF AUC: 0.773123364318\n"
     ]
    }
   ],
   "source": [
    "from sklearn.metrics import roc_auc_score\n",
    "print('Original AUC:', roc_auc_score(train_df['is_duplicate'], train_word_match))\n",
    "print('   TFIDF AUC:', roc_auc_score(train_df['is_duplicate'], tfidf_train_word_match.fillna(0)))"
   ]
  },
  {
   "cell_type": "markdown",
   "metadata": {
    "deletable": true,
    "editable": true
   },
   "source": [
    "\n",
    "\n",
    "\n",
    "## Testing NLP Techniques\n",
    "\n"
   ]
  },
  {
   "cell_type": "code",
   "execution_count": 2,
   "metadata": {
    "collapsed": true,
    "deletable": true,
    "editable": true
   },
   "outputs": [],
   "source": [
    "import time\n",
    "import pandas as pd\n",
    "import numpy as np\n",
    "import matplotlib\n",
    "import matplotlib.pyplot as plt\n",
    "import seaborn as sns\n",
    "import networkx as nx\n",
    "\n",
    "from sklearn import model_selection\n",
    "from sklearn import linear_model\n",
    "\n",
    "from sklearn.metrics import accuracy_score\n",
    "from sklearn.metrics import log_loss\n",
    "from sklearn.metrics import roc_auc_score\n",
    "\n",
    "from sklearn.feature_extraction.text import TfidfVectorizer, CountVectorizer\n",
    "\n",
    "matplotlib.style.use('fivethirtyeight')"
   ]
  },
  {
   "cell_type": "code",
   "execution_count": 3,
   "metadata": {
    "collapsed": false,
    "deletable": true,
    "editable": true
   },
   "outputs": [
    {
     "name": "stdout",
     "output_type": "stream",
     "text": [
      "feature extraction took 28.93 minutes\n"
     ]
    }
   ],
   "source": [
    "#%% create dictionary and extract BOW features from questions\n",
    "\n",
    "featureExtractionStartTime = time.time()\n",
    "\n",
    "maxNumFeatures = 300000\n",
    "\n",
    "# bag of letter sequences (chars)\n",
    "BagOfWordsExtractor = CountVectorizer(max_df=0.999, min_df=50, max_features=maxNumFeatures, \n",
    "                                      analyzer='char', ngram_range=(1,10), \n",
    "                                      binary=True, lowercase=True)\n",
    "# bag of words\n",
    "#BagOfWordsExtractor = CountVectorizer(max_df=0.999, min_df=10, max_features=maxNumFeatures, \n",
    "#                                      analyzer='word', ngram_range=(1,6), stop_words='english', \n",
    "#                                      binary=True, lowercase=True)\n",
    "\n",
    "BagOfWordsExtractor.fit(pd.concat((train_df.ix[:,'question1'],train_df.ix[:,'question2'])).unique())\n",
    "\n",
    "trainQuestion1_BOW_rep = BagOfWordsExtractor.transform(train_df.ix[:,'question1'])\n",
    "trainQuestion2_BOW_rep = BagOfWordsExtractor.transform(train_df.ix[:,'question2'])\n",
    "labels = np.array(train_df.ix[:,'is_duplicate'])\n",
    "\n",
    "featureExtractionDurationInMinutes = (time.time()-featureExtractionStartTime)/60.0\n",
    "print(\"feature extraction took %.2f minutes\" % (featureExtractionDurationInMinutes))"
   ]
  },
  {
   "cell_type": "code",
   "execution_count": 5,
   "metadata": {
    "collapsed": false,
    "deletable": true,
    "editable": true
   },
   "outputs": [
    {
     "name": "stdout",
     "output_type": "stream",
     "text": [
      "---------------------------------------------\n"
     ]
    },
    {
     "name": "stderr",
     "output_type": "stream",
     "text": [
      "/usr/local/lib/python2.7/site-packages/sklearn/linear_model/sag.py:286: ConvergenceWarning: The max_iter was reached which means the coef_ did not converge\n",
      "  \"the coef_ did not converge\", ConvergenceWarning)\n"
     ]
    },
    {
     "name": "stdout",
     "output_type": "stream",
     "text": [
      "fold 1 took 6.22 minutes: accuracy = 0.846, log loss = 0.3477, AUC = 0.920\n",
      "fold 2 took 6.42 minutes: accuracy = 0.843, log loss = 0.3510, AUC = 0.918\n",
      "---------------------------------------------\n",
      "cross validation took 12.90 minutes\n",
      "mean CV: accuracy = 0.844, log loss = 0.3494, AUC = 0.919\n",
      "---------------------------------------------\n"
     ]
    }
   ],
   "source": [
    "0#%% prefrom cross validation\n",
    "\n",
    "crossValidationStartTime = time.time()\n",
    "\n",
    "numCVSplits = 8\n",
    "numSplitsToBreakAfter = 2\n",
    "\n",
    "X = -(trainQuestion1_BOW_rep != trainQuestion2_BOW_rep).astype(int)\n",
    "#X = -(trainQuestion1_BOW_rep != trainQuestion2_BOW_rep).astype(int) + \\\n",
    "#      trainQuestion1_BOW_rep.multiply(trainQuestion2_BOW_rep)\n",
    "y = labels\n",
    "\n",
    "logisticRegressor = linear_model.LogisticRegression(C=0.05, solver='sag')\n",
    "\n",
    "logRegAccuracy = []\n",
    "logRegLogLoss = []\n",
    "logRegAUC = []\n",
    "\n",
    "print('---------------------------------------------')\n",
    "stratifiedCV = model_selection.StratifiedKFold(n_splits=numCVSplits, random_state=2)\n",
    "for k, (trainInds, validInds) in enumerate(stratifiedCV.split(X, y)):\n",
    "    foldTrainingStartTime = time.time()\n",
    "\n",
    "    X_train_cv = X[trainInds,:]\n",
    "    X_valid_cv = X[validInds,:]\n",
    "\n",
    "    y_train_cv = y[trainInds]\n",
    "    y_valid_cv = y[validInds]\n",
    "\n",
    "    logisticRegressor.fit(X_train_cv, y_train_cv)\n",
    "\n",
    "    y_train_hat =  logisticRegressor.predict_proba(X_train_cv)[:,1]\n",
    "    y_valid_hat =  logisticRegressor.predict_proba(X_valid_cv)[:,1]\n",
    "\n",
    "    logRegAccuracy.append(accuracy_score(y_valid_cv, y_valid_hat > 0.5))\n",
    "    logRegLogLoss.append(log_loss(y_valid_cv, y_valid_hat))\n",
    "    logRegAUC.append(roc_auc_score(y_valid_cv, y_valid_hat))\n",
    "    \n",
    "    foldTrainingDurationInMinutes = (time.time()-foldTrainingStartTime)/60.0\n",
    "    print('fold %d took %.2f minutes: accuracy = %.3f, log loss = %.4f, AUC = %.3f' % (k+1,\n",
    "             foldTrainingDurationInMinutes, logRegAccuracy[-1],logRegLogLoss[-1],logRegAUC[-1]))\n",
    "\n",
    "    if (k+1) >= numSplitsToBreakAfter:\n",
    "        break\n",
    "\n",
    "\n",
    "crossValidationDurationInMinutes = (time.time()-crossValidationStartTime)/60.0\n",
    "\n",
    "print('---------------------------------------------')\n",
    "print('cross validation took %.2f minutes' % (crossValidationDurationInMinutes))\n",
    "print('mean CV: accuracy = %.3f, log loss = %.4f, AUC = %.3f' % (np.array(logRegAccuracy).mean(),\n",
    "                                                                 np.array(logRegLogLoss).mean(),\n",
    "                                                                 np.array(logRegAUC).mean()))\n",
    "print('---------------------------------------------')"
   ]
  },
  {
   "cell_type": "code",
   "execution_count": 31,
   "metadata": {
    "collapsed": false,
    "deletable": true,
    "editable": true
   },
   "outputs": [
    {
     "name": "stdout",
     "output_type": "stream",
     "text": [
      "353752\n",
      "50536\n"
     ]
    }
   ],
   "source": [
    "print(len(y_train_hat))\n",
    "print(len(y_valid_hat))"
   ]
  },
  {
   "cell_type": "code",
   "execution_count": 17,
   "metadata": {
    "collapsed": false,
    "deletable": true,
    "editable": true
   },
   "outputs": [
    {
     "data": {
      "text/plain": [
       "[<matplotlib.text.Text at 0x154b7bc50>,\n",
       " <matplotlib.text.Text at 0x1553da810>,\n",
       " <matplotlib.text.Text at 0x10c7d8f10>,\n",
       " <matplotlib.text.Text at 0x1553e8d90>,\n",
       " <matplotlib.text.Text at 0x1553e8810>,\n",
       " <matplotlib.text.Text at 0x10c820f90>,\n",
       " <matplotlib.text.Text at 0x1058698d0>,\n",
       " <matplotlib.text.Text at 0x112c99550>,\n",
       " <matplotlib.text.Text at 0x112c6cc90>,\n",
       " <matplotlib.text.Text at 0x155422790>,\n",
       " <matplotlib.text.Text at 0x112c99dd0>,\n",
       " <matplotlib.text.Text at 0x135ba7750>,\n",
       " <matplotlib.text.Text at 0x135ba7b10>,\n",
       " <matplotlib.text.Text at 0x121cde090>,\n",
       " <matplotlib.text.Text at 0x121cdea50>,\n",
       " <matplotlib.text.Text at 0x10566c810>,\n",
       " <matplotlib.text.Text at 0x10566c950>,\n",
       " <matplotlib.text.Text at 0x10c3e3590>,\n",
       " <matplotlib.text.Text at 0x1497b0a90>,\n",
       " <matplotlib.text.Text at 0x1497b0350>,\n",
       " <matplotlib.text.Text at 0x119e68d10>,\n",
       " <matplotlib.text.Text at 0x119e684d0>,\n",
       " <matplotlib.text.Text at 0x10c80d590>,\n",
       " <matplotlib.text.Text at 0x13e5399d0>,\n",
       " <matplotlib.text.Text at 0x112c1e150>,\n",
       " <matplotlib.text.Text at 0x112c1e890>,\n",
       " <matplotlib.text.Text at 0x112c1efd0>,\n",
       " <matplotlib.text.Text at 0x112c24750>,\n",
       " <matplotlib.text.Text at 0x112c24e90>,\n",
       " <matplotlib.text.Text at 0x112c14610>]"
      ]
     },
     "execution_count": 17,
     "metadata": {},
     "output_type": "execute_result"
    },
    {
     "data": {
      "image/png": "[encoded data removed]",
      "text/plain": [
       "<matplotlib.figure.Figure at 0x27333d810>"
      ]
     },
     "metadata": {},
     "output_type": "display_data"
    },
    {
     "data": {
      "image/png": "[encoded data removed]",
      "text/plain": [
       "<matplotlib.figure.Figure at 0x27332fe10>"
      ]
     },
     "metadata": {},
     "output_type": "display_data"
    }
   ],
   "source": [
    "9#%% show prediction distribution and \"feature importance\"\n",
    "\n",
    "matplotlib.rcParams['font.size'] = 14\n",
    "matplotlib.rcParams['figure.figsize'] = (10,10)\n",
    "\n",
    "plt.figure(); \n",
    "sns.kdeplot(y_valid_hat[y_valid_cv==0], shade=True, color=\"b\", bw=0.01)\n",
    "sns.kdeplot(y_valid_hat[y_valid_cv==1], shade=True, color=\"g\", bw=0.01)\n",
    "plt.legend(['non duplicate','duplicate'],fontsize=24)\n",
    "plt.title('Validation Accuracy = %.3f, Log Loss = %.4f, AUC = %.3f' %(logRegAccuracy[-1],\n",
    "                                                                      logRegLogLoss[-1],\n",
    "                                                                      logRegAUC[-1]))\n",
    "plt.xlabel('Prediction'); plt.ylabel('Probability Density'); plt.xlim(-0.01,1.01)\n",
    "\n",
    "\n",
    "numFeaturesToShow = 30\n",
    "\n",
    "sortedCoeffients = np.sort(logisticRegressor.coef_)[0]\n",
    "featureNames = BagOfWordsExtractor.get_feature_names()\n",
    "sortedFeatureNames = [featureNames[x] for x in list(np.argsort(logisticRegressor.coef_)[0])]\n",
    "\n",
    "matplotlib.rcParams['font.size'] = 14\n",
    "matplotlib.rcParams['figure.figsize'] = (10,12)\n",
    "\n",
    "plt.figure()\n",
    "plt.suptitle('Feature Importance',fontsize=24)\n",
    "ax = plt.subplot(1,2,1); plt.title('top non duplicate predictors'); \n",
    "plt.xlabel('minus logistic regression coefficient')\n",
    "ax.barh(range(numFeaturesToShow), -sortedCoeffients[:numFeaturesToShow][::-1], align='center'); \n",
    "plt.ylim(-1,numFeaturesToShow); ax.set_yticks(range(numFeaturesToShow)); \n",
    "ax.set_yticklabels(sortedFeatureNames[:numFeaturesToShow][::-1],fontsize=20)\n",
    "\n",
    "ax = plt.subplot(1,2,2); plt.title('top duplicate predictors'); \n",
    "plt.xlabel('logistic regression coefficient')\n",
    "ax.barh(range(numFeaturesToShow), sortedCoeffients[-numFeaturesToShow:], align='center'); \n",
    "plt.ylim(-1,numFeaturesToShow); ax.set_yticks(range(numFeaturesToShow)); \n",
    "ax.set_yticklabels(sortedFeatureNames[-numFeaturesToShow:],fontsize=20)"
   ]
  },
  {
   "cell_type": "code",
   "execution_count": 6,
   "metadata": {
    "collapsed": false,
    "deletable": true,
    "editable": true
   },
   "outputs": [
    {
     "name": "stdout",
     "output_type": "stream",
     "text": [
      "full training took 7.63 minutes\n"
     ]
    }
   ],
   "source": [
    "#%% train on full training data\n",
    "\n",
    "trainingStartTime = time.time()\n",
    "\n",
    "logisticRegressor = linear_model.LogisticRegression(C=0.05, solver='sag', \n",
    "                                                    class_weight={1: 0.46, 0: 1.32})\n",
    "logisticRegressor.fit(X, y)\n",
    "\n",
    "trainingDurationInMinutes = (time.time()-trainingStartTime)/60.0\n",
    "print('full training took %.2f minutes' % (trainingDurationInMinutes))"
   ]
  },
  {
   "cell_type": "code",
   "execution_count": 50,
   "metadata": {
    "collapsed": false,
    "deletable": true,
    "editable": true
   },
   "outputs": [],
   "source": [
    "trainPredictions = logisticRegressor.predict_proba(X)[:,1]"
   ]
  },
  {
   "cell_type": "code",
   "execution_count": 52,
   "metadata": {
    "collapsed": false,
    "deletable": true,
    "editable": true
   },
   "outputs": [
    {
     "name": "stdout",
     "output_type": "stream",
     "text": [
      "404288\n"
     ]
    }
   ],
   "source": [
    "print(len(trainPredictions))"
   ]
  },
  {
   "cell_type": "code",
   "execution_count": 1,
   "metadata": {
    "collapsed": false,
    "deletable": true,
    "editable": true
   },
   "outputs": [
    {
     "ename": "NameError",
     "evalue": "name 'time' is not defined",
     "output_type": "error",
     "traceback": [
      "\u001b[0;31m---------------------------------------------------------------------------\u001b[0m",
      "\u001b[0;31mNameError\u001b[0m                                 Traceback (most recent call last)",
      "\u001b[0;32m<ipython-input-1-e78ce416cce7>\u001b[0m in \u001b[0;36m<module>\u001b[0;34m()\u001b[0m\n\u001b[1;32m      1\u001b[0m \u001b[0;36m0\u001b[0m\u001b[0;31m#%% load test data, extract features and make predictions\u001b[0m\u001b[0;34m\u001b[0m\u001b[0m\n\u001b[1;32m      2\u001b[0m \u001b[0;34m\u001b[0m\u001b[0m\n\u001b[0;32m----> 3\u001b[0;31m \u001b[0mtestPredictionStartTime\u001b[0m \u001b[0;34m=\u001b[0m \u001b[0mtime\u001b[0m\u001b[0;34m.\u001b[0m\u001b[0mtime\u001b[0m\u001b[0;34m(\u001b[0m\u001b[0;34m)\u001b[0m\u001b[0;34m\u001b[0m\u001b[0m\n\u001b[0m\u001b[1;32m      4\u001b[0m \u001b[0;34m\u001b[0m\u001b[0m\n\u001b[1;32m      5\u001b[0m \u001b[0;31m#testDF = pd.read_csv('../input/test.csv')\u001b[0m\u001b[0;34m\u001b[0m\u001b[0;34m\u001b[0m\u001b[0m\n",
      "\u001b[0;31mNameError\u001b[0m: name 'time' is not defined"
     ]
    }
   ],
   "source": [
    "0#%% load test data, extract features and make predictions\n",
    "\n",
    "testPredictionStartTime = time.time()\n",
    "\n",
    "#testDF = pd.read_csv('../input/test.csv')\n",
    "test_df.ix[test_df['question1'].isnull(),['question1','question2']] = 'random empty question'\n",
    "test_df.ix[test_df['question2'].isnull(),['question1','question2']] = 'random empty question'\n",
    "\n",
    "testQuestion1_BOW_rep = BagOfWordsExtractor.transform(test_df.ix[:,'question1'])\n",
    "testQuestion2_BOW_rep = BagOfWordsExtractor.transform(test_df.ix[:,'question2'])\n",
    "\n",
    "X_test = -(testQuestion1_BOW_rep != testQuestion2_BOW_rep).astype(int)\n",
    "#X_test = -(testQuestion1_BOW_rep != testQuestion2_BOW_rep).astype(int) + \\\n",
    "#           testQuestion1_BOW_rep.multiply(testQuestion2_BOW_rep)\n",
    "\n",
    "testPredictions = logisticRegressor.predict_proba(X_test)[:,1]\n",
    "\n",
    "# quick fix to avoid memory errors\n",
    "#seperators= [750000,1500000]\n",
    "#testPredictions1 = logisticRegressor.predict_proba(X_test[:seperators[0],:])[:,1]\n",
    "#testPredictions2 = logisticRegressor.predict_proba(X_test[seperators[0]:seperators[1],:])[:,1]\n",
    "#testPredictions3 = logisticRegressor.predict_proba(X_test[seperators[1]:,:])[:,1]\n",
    "#testPredictions = np.hstack((testPredictions1,testPredictions2,testPredictions3))\n",
    "\n",
    "matplotlib.rcParams['font.size'] = 14\n",
    "matplotlib.rcParams['figure.figsize'] = (9,9)\n",
    "\n",
    "plt.figure(); \n",
    "plt.subplot(2,1,1); sns.kdeplot(y_valid_hat, shade=True, color=\"b\", bw=0.01); \n",
    "plt.ylabel('Probability Density'); plt.xlim(-0.01,1.01)\n",
    "plt.title('mean valid prediction = ' + str(np.mean(y_valid_hat)))\n",
    "plt.subplot(2,1,2); sns.kdeplot(testPredictions, shade=True, color=\"b\", bw=0.01);\n",
    "plt.xlabel('Prediction'); plt.ylabel('Probability Density'); plt.xlim(-0.01,1.01)\n",
    "plt.title('mean test prediction = ' + str(np.mean(testPredictions)))\n",
    "\n",
    "testPredictionDurationInMinutes = (time.time()-testPredictionStartTime)/60.0\n",
    "print('predicting on test took %.2f minutes' % (testPredictionDurationInMinutes))"
   ]
  },
  {
   "cell_type": "code",
   "execution_count": 20,
   "metadata": {
    "collapsed": false,
    "deletable": true,
    "editable": true
   },
   "outputs": [
    {
     "name": "stdout",
     "output_type": "stream",
     "text": [
      "2345796\n"
     ]
    }
   ],
   "source": [
    "print(len(test_df['test_id']))"
   ]
  },
  {
   "cell_type": "code",
   "execution_count": 21,
   "metadata": {
    "collapsed": false,
    "deletable": true,
    "editable": true
   },
   "outputs": [],
   "source": [
    "#%% create a submission\n",
    "\n",
    "submissionName = 'shallowBenchmark_ph2'\n",
    "\n",
    "submission = pd.DataFrame()\n",
    "submission['test_id'] = test_df['test_id']\n",
    "submission['is_duplicate'] = testPredictions\n",
    "submission.to_csv(submissionName + '.csv', index=False)"
   ]
  },
  {
   "cell_type": "markdown",
   "metadata": {
    "collapsed": true,
    "deletable": true,
    "editable": true
   },
   "source": [
    "## Rebalancing the Data\n",
    "This section was taken from: https://www.kaggle.com/anokas/data-analysis-xgboost-starter-0-35460-lb"
   ]
  },
  {
   "cell_type": "code",
   "execution_count": 60,
   "metadata": {
    "collapsed": false,
    "deletable": true,
    "editable": true
   },
   "outputs": [
    {
     "name": "stderr",
     "output_type": "stream",
     "text": [
      "/usr/local/lib/python2.7/site-packages/ipykernel/__main__.py:17: RuntimeWarning: invalid value encountered in double_scalars\n",
      "/usr/local/lib/python2.7/site-packages/ipykernel/__main__.py:17: RuntimeWarning: invalid value encountered in long_scalars\n"
     ]
    }
   ],
   "source": [
    "# First we create our training and testing data\n",
    "x_train = pd.DataFrame()\n",
    "x_test = pd.DataFrame()\n",
    "#x_train['word_match'] = train_word_match\n",
    "x_train['tfidf_word_match'] = tfidf_train_word_match\n",
    "#x_test['word_match'] = test_df.apply(word_match_share, axis=1, raw=True)\n",
    "x_test['tfidf_word_match'] = test_df.apply(tfidf_word_match_share, axis=1, raw=True)\n",
    "\n",
    "# adding word_delta & char_delta variables\n",
    "#x_train['word_delta'] = train_df['word_delta']\n",
    "#x_train['char_delta'] = train_df['char_delta']\n",
    "#x_test['word_delta'] = test_df['word_delta']\n",
    "#x_test['char_delta'] = test_df['char_delta']\n",
    "\n",
    "# adding levenshtein ratios\n",
    "#x_train['lev_ratio'] = train_df['lev_ratio']\n",
    "#x_train['lev_ratio'] = train_df['lev_ratio']\n",
    "#x_test['lev_ratio'] = test_df['lev_ratio']\n",
    "#x_test['lev_ratio'] = test_df['lev_ratio']\n",
    "\n",
    "y_train = train_df['is_duplicate'].values"
   ]
  },
  {
   "cell_type": "code",
   "execution_count": 61,
   "metadata": {
    "collapsed": true,
    "deletable": true,
    "editable": true
   },
   "outputs": [],
   "source": [
    "x_train['bow'] = trainPredictions\n",
    "x_test['bow'] = testPredictions"
   ]
  },
  {
   "cell_type": "code",
   "execution_count": 62,
   "metadata": {
    "collapsed": false,
    "deletable": true,
    "editable": true
   },
   "outputs": [
    {
     "data": {
      "text/html": [
       "<div>\n",
       "<table border=\"1\" class=\"dataframe\">\n",
       "  <thead>\n",
       "    <tr style=\"text-align: right;\">\n",
       "      <th></th>\n",
       "      <th>tfidf_word_match</th>\n",
       "      <th>bow</th>\n",
       "    </tr>\n",
       "  </thead>\n",
       "  <tbody>\n",
       "    <tr>\n",
       "      <th>0</th>\n",
       "      <td>0.790534</td>\n",
       "      <td>0.091159</td>\n",
       "    </tr>\n",
       "    <tr>\n",
       "      <th>1</th>\n",
       "      <td>0.361758</td>\n",
       "      <td>0.065415</td>\n",
       "    </tr>\n",
       "    <tr>\n",
       "      <th>2</th>\n",
       "      <td>0.345948</td>\n",
       "      <td>0.023368</td>\n",
       "    </tr>\n",
       "    <tr>\n",
       "      <th>3</th>\n",
       "      <td>0.000000</td>\n",
       "      <td>0.000011</td>\n",
       "    </tr>\n",
       "    <tr>\n",
       "      <th>4</th>\n",
       "      <td>0.007362</td>\n",
       "      <td>0.000013</td>\n",
       "    </tr>\n",
       "  </tbody>\n",
       "</table>\n",
       "</div>"
      ],
      "text/plain": [
       "   tfidf_word_match       bow\n",
       "0          0.790534  0.091159\n",
       "1          0.361758  0.065415\n",
       "2          0.345948  0.023368\n",
       "3          0.000000  0.000011\n",
       "4          0.007362  0.000013"
      ]
     },
     "execution_count": 62,
     "metadata": {},
     "output_type": "execute_result"
    }
   ],
   "source": [
    "x_train.head()"
   ]
  },
  {
   "cell_type": "code",
   "execution_count": 63,
   "metadata": {
    "collapsed": false,
    "deletable": true,
    "editable": true
   },
   "outputs": [
    {
     "name": "stdout",
     "output_type": "stream",
     "text": [
      "0.19124341597\n"
     ]
    }
   ],
   "source": [
    "pos_train = x_train[y_train == 1]\n",
    "neg_train = x_train[y_train == 0]\n",
    "\n",
    "# Now we oversample the negative class\n",
    "# There is likely a much more elegant way to do this...\n",
    "p = 0.165\n",
    "scale = ((len(pos_train) / (len(pos_train) + len(neg_train))) / p) - 1\n",
    "while scale > 1:\n",
    "    neg_train = pd.concat([neg_train, neg_train])\n",
    "    scale -=1\n",
    "neg_train = pd.concat([neg_train, neg_train[:int(scale * len(neg_train))]])\n",
    "print(len(pos_train) / (len(pos_train) + len(neg_train)))\n",
    "\n",
    "x_train = pd.concat([pos_train, neg_train])\n",
    "y_train = (np.zeros(len(pos_train)) + 1).tolist() + np.zeros(len(neg_train)).tolist()\n",
    "del pos_train, neg_train"
   ]
  },
  {
   "cell_type": "code",
   "execution_count": 64,
   "metadata": {
    "collapsed": false,
    "deletable": true,
    "editable": true
   },
   "outputs": [],
   "source": [
    "# Finally, we split some of the data off for validation\n",
    "from sklearn.cross_validation import train_test_split\n",
    "\n",
    "x_train, x_valid, y_train, y_valid = train_test_split(x_train, y_train, test_size=0.2, random_state=4242)"
   ]
  },
  {
   "cell_type": "code",
   "execution_count": 65,
   "metadata": {
    "collapsed": false,
    "deletable": true,
    "editable": true
   },
   "outputs": [
    {
     "data": {
      "text/html": [
       "<div>\n",
       "<table border=\"1\" class=\"dataframe\">\n",
       "  <thead>\n",
       "    <tr style=\"text-align: right;\">\n",
       "      <th></th>\n",
       "      <th>tfidf_word_match</th>\n",
       "      <th>bow</th>\n",
       "    </tr>\n",
       "  </thead>\n",
       "  <tbody>\n",
       "    <tr>\n",
       "      <th>328779</th>\n",
       "      <td>0.049019</td>\n",
       "      <td>0.000130</td>\n",
       "    </tr>\n",
       "    <tr>\n",
       "      <th>262357</th>\n",
       "      <td>0.000000</td>\n",
       "      <td>0.023237</td>\n",
       "    </tr>\n",
       "    <tr>\n",
       "      <th>172252</th>\n",
       "      <td>0.751147</td>\n",
       "      <td>0.454743</td>\n",
       "    </tr>\n",
       "    <tr>\n",
       "      <th>21922</th>\n",
       "      <td>0.426912</td>\n",
       "      <td>0.033064</td>\n",
       "    </tr>\n",
       "    <tr>\n",
       "      <th>40069</th>\n",
       "      <td>0.527551</td>\n",
       "      <td>0.047466</td>\n",
       "    </tr>\n",
       "  </tbody>\n",
       "</table>\n",
       "</div>"
      ],
      "text/plain": [
       "        tfidf_word_match       bow\n",
       "328779          0.049019  0.000130\n",
       "262357          0.000000  0.023237\n",
       "172252          0.751147  0.454743\n",
       "21922           0.426912  0.033064\n",
       "40069           0.527551  0.047466"
      ]
     },
     "execution_count": 65,
     "metadata": {},
     "output_type": "execute_result"
    }
   ],
   "source": [
    "x_train.head()"
   ]
  },
  {
   "cell_type": "markdown",
   "metadata": {
    "deletable": true,
    "editable": true
   },
   "source": [
    "## XGBoost\n",
    "Now we can finally run XGBoost on our data, in order to see the score on the leaderboard!"
   ]
  },
  {
   "cell_type": "code",
   "execution_count": 66,
   "metadata": {
    "collapsed": false,
    "deletable": true,
    "editable": true
   },
   "outputs": [
    {
     "name": "stdout",
     "output_type": "stream",
     "text": [
      "[0]\ttrain-logloss:0.551085\tvalid-logloss:0.550996\n",
      "Multiple eval metrics have been passed: 'valid-logloss' will be used for early stopping.\n",
      "\n",
      "Will train until valid-logloss hasn't improved in 50 rounds.\n",
      "[10]\ttrain-logloss:0.200968\tvalid-logloss:0.200743\n",
      "[20]\ttrain-logloss:0.171651\tvalid-logloss:0.171573\n",
      "[30]\ttrain-logloss:0.167909\tvalid-logloss:0.167931\n",
      "[40]\ttrain-logloss:0.167262\tvalid-logloss:0.167344\n",
      "[50]\ttrain-logloss:0.166993\tvalid-logloss:0.167146\n",
      "[60]\ttrain-logloss:0.166834\tvalid-logloss:0.167081\n",
      "[70]\ttrain-logloss:0.166656\tvalid-logloss:0.166992\n",
      "[80]\ttrain-logloss:0.166469\tvalid-logloss:0.166895\n",
      "[90]\ttrain-logloss:0.166246\tvalid-logloss:0.166755\n",
      "[100]\ttrain-logloss:0.166032\tvalid-logloss:0.16665\n",
      "[110]\ttrain-logloss:0.165838\tvalid-logloss:0.166587\n",
      "[120]\ttrain-logloss:0.165761\tvalid-logloss:0.166557\n",
      "[130]\ttrain-logloss:0.165744\tvalid-logloss:0.166549\n",
      "[140]\ttrain-logloss:0.165581\tvalid-logloss:0.166463\n",
      "[150]\ttrain-logloss:0.165519\tvalid-logloss:0.166462\n",
      "[160]\ttrain-logloss:0.165394\tvalid-logloss:0.166436\n",
      "[170]\ttrain-logloss:0.165176\tvalid-logloss:0.16634\n",
      "[180]\ttrain-logloss:0.165011\tvalid-logloss:0.166288\n",
      "[190]\ttrain-logloss:0.164951\tvalid-logloss:0.166292\n",
      "[200]\ttrain-logloss:0.164769\tvalid-logloss:0.166204\n",
      "[210]\ttrain-logloss:0.164657\tvalid-logloss:0.166182\n",
      "[220]\ttrain-logloss:0.164516\tvalid-logloss:0.166153\n",
      "[230]\ttrain-logloss:0.164282\tvalid-logloss:0.16607\n",
      "[240]\ttrain-logloss:0.16405\tvalid-logloss:0.165972\n",
      "[250]\ttrain-logloss:0.16398\tvalid-logloss:0.16592\n",
      "[260]\ttrain-logloss:0.163879\tvalid-logloss:0.165878\n",
      "[270]\ttrain-logloss:0.16375\tvalid-logloss:0.165854\n",
      "[280]\ttrain-logloss:0.163698\tvalid-logloss:0.165846\n",
      "[290]\ttrain-logloss:0.163526\tvalid-logloss:0.165789\n",
      "[300]\ttrain-logloss:0.163413\tvalid-logloss:0.165754\n",
      "[310]\ttrain-logloss:0.163314\tvalid-logloss:0.165739\n",
      "[320]\ttrain-logloss:0.163174\tvalid-logloss:0.165666\n",
      "[330]\ttrain-logloss:0.163003\tvalid-logloss:0.16561\n",
      "[340]\ttrain-logloss:0.162827\tvalid-logloss:0.165583\n",
      "[350]\ttrain-logloss:0.162746\tvalid-logloss:0.165562\n",
      "[360]\ttrain-logloss:0.162558\tvalid-logloss:0.165488\n",
      "[370]\ttrain-logloss:0.162386\tvalid-logloss:0.16542\n",
      "[380]\ttrain-logloss:0.162239\tvalid-logloss:0.165361\n",
      "[390]\ttrain-logloss:0.162146\tvalid-logloss:0.165312\n",
      "[399]\ttrain-logloss:0.162071\tvalid-logloss:0.165279\n"
     ]
    }
   ],
   "source": [
    "import xgboost as xgb\n",
    "\n",
    "# Set our parameters for xgboost\n",
    "params = {}\n",
    "params['objective'] = 'binary:logistic'\n",
    "params['eval_metric'] = 'logloss'\n",
    "params['eta'] = 0.2\n",
    "params['max_depth'] = 4\n",
    "params['min_child_weight'] = 1\n",
    "params['seed']=27\n",
    "#params['gamma'] = 0.01\n",
    "#params['subsample'] = 0.8\n",
    "#params['colsample_bytree'] = 0.8\n",
    "#params['scale_pos_weight'] = 1\n",
    "\n",
    "d_train = xgb.DMatrix(x_train, label=y_train)\n",
    "d_valid = xgb.DMatrix(x_valid, label=y_valid)\n",
    "\n",
    "watchlist = [(d_train, 'train'), (d_valid, 'valid')]\n",
    "\n",
    "bst = xgb.train(params, d_train, 400, watchlist, early_stopping_rounds=50, verbose_eval=10)"
   ]
  },
  {
   "cell_type": "code",
   "execution_count": 67,
   "metadata": {
    "collapsed": false,
    "deletable": true,
    "editable": true
   },
   "outputs": [],
   "source": [
    "d_test = xgb.DMatrix(x_test)\n",
    "p_test = bst.predict(d_test)\n",
    "\n",
    "sub = pd.DataFrame()\n",
    "sub['test_id'] = test_df['test_id']\n",
    "sub['is_duplicate'] = p_test\n",
    "sub.to_csv('ensemble_ph5_11-may-2017.csv', index=False)"
   ]
  },
  {
   "cell_type": "code",
   "execution_count": 68,
   "metadata": {
    "collapsed": false,
    "deletable": true,
    "editable": true
   },
   "outputs": [
    {
     "data": {
      "text/html": [
       "<div>\n",
       "<table border=\"1\" class=\"dataframe\">\n",
       "  <thead>\n",
       "    <tr style=\"text-align: right;\">\n",
       "      <th></th>\n",
       "      <th>test_id</th>\n",
       "      <th>is_duplicate</th>\n",
       "    </tr>\n",
       "  </thead>\n",
       "  <tbody>\n",
       "    <tr>\n",
       "      <th>0</th>\n",
       "      <td>0</td>\n",
       "      <td>0.000240</td>\n",
       "    </tr>\n",
       "    <tr>\n",
       "      <th>1</th>\n",
       "      <td>1</td>\n",
       "      <td>0.676185</td>\n",
       "    </tr>\n",
       "    <tr>\n",
       "      <th>2</th>\n",
       "      <td>2</td>\n",
       "      <td>0.136985</td>\n",
       "    </tr>\n",
       "    <tr>\n",
       "      <th>3</th>\n",
       "      <td>3</td>\n",
       "      <td>0.000015</td>\n",
       "    </tr>\n",
       "    <tr>\n",
       "      <th>4</th>\n",
       "      <td>4</td>\n",
       "      <td>0.044643</td>\n",
       "    </tr>\n",
       "  </tbody>\n",
       "</table>\n",
       "</div>"
      ],
      "text/plain": [
       "   test_id  is_duplicate\n",
       "0        0      0.000240\n",
       "1        1      0.676185\n",
       "2        2      0.136985\n",
       "3        3      0.000015\n",
       "4        4      0.044643"
      ]
     },
     "execution_count": 68,
     "metadata": {},
     "output_type": "execute_result"
    }
   ],
   "source": [
    "sub.head()"
   ]
  },
  {
   "cell_type": "code",
   "execution_count": null,
   "metadata": {
    "collapsed": true,
    "deletable": true,
    "editable": true
   },
   "outputs": [],
   "source": []
  }
 ],
 "metadata": {
  "kernelspec": {
   "display_name": "Python 2",
   "language": "python",
   "name": "python2"
  },
  "language_info": {
   "codemirror_mode": {
    "name": "ipython",
    "version": 2
   },
   "file_extension": ".py",
   "mimetype": "text/x-python",
   "name": "python",
   "nbconvert_exporter": "python",
   "pygments_lexer": "ipython2",
   "version": "2.7.13"
  }
 },
 "nbformat": 4,
 "nbformat_minor": 2
}
